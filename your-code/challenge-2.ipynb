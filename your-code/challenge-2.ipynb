{
 "cells": [
  {
   "cell_type": "markdown",
   "metadata": {},
   "source": [
    "# Challenge 2: Sentiment Analysis\n",
    "\n",
    "In this challenge we will learn sentiment analysis and practice performing sentiment analysis on Twitter tweets. \n",
    "\n",
    "## Introduction\n",
    "\n",
    "Sentiment analysis is to *systematically identify, extract, quantify, and study affective states and subjective information* based on texts ([reference](https://en.wikipedia.org/wiki/Sentiment_analysis)). In simple words, it's to understand whether a person is happy or unhappy in producing the piece of text. Why we (or rather, companies) care about sentiment in texts? It's because by understanding the sentiments in texts, we will be able to know if our customers are happy or unhappy about our products and services. If they are unhappy, the subsequent action is to figure out what have caused the unhappiness and make improvements.\n",
    "\n",
    "Basic sentiment analysis only understands the *positive* or *negative* (sometimes *neutral* too) polarities of the sentiment. More advanced sentiment analysis will also consider dimensions such as agreement, subjectivity, confidence, irony, and so on. In this challenge we will conduct the basic positive vs negative sentiment analysis based on real Twitter tweets.\n",
    "\n",
    "NLTK comes with a [sentiment analysis package](https://www.nltk.org/api/nltk.sentiment.html). This package is great for dummies to perform sentiment analysis because it requires only the textual data to make predictions. For example:\n",
    "\n",
    "```python\n",
    ">>> from nltk.sentiment.vader import SentimentIntensityAnalyzer\n",
    ">>> txt = \"Ironhack is a Global Tech School ranked num 2 worldwide.  ",
    " ",
    "Our mission is to help people transform their careers and join a thriving community of tech professionals that love what they do.\"\n",
    ">>> analyzer = SentimentIntensityAnalyzer()\n",
    ">>> analyzer.polarity_scores(txt)\n",
    "{'neg': 0.0, 'neu': 0.741, 'pos': 0.259, 'compound': 0.8442}\n",
    "```\n",
    "\n",
    "In this challenge, however, you will not use NLTK's sentiment analysis package because in your Machine Learning training in the past 2 weeks you have learned how to make predictions more accurate than that. The [tweets data](https://www.kaggle.com/kazanova/sentiment140) we will be using today are already coded for the positive/negative sentiment. You will be able to use the Naïve Bayes classifier you learned in the lesson to predict the sentiment of tweets based on the labels."
   ]
  },
  {
   "cell_type": "markdown",
   "metadata": {},
   "source": [
    "## Conducting Sentiment Analysis\n",
    "\n",
    "### Loading and Exploring Data\n",
    "\n",
    "The dataset we'll be using today is located in the lab directory named `Sentiment140.csv.zip`. You need to unzip it into a `.csv` file. Then in the cell below, load and explore the data.\n",
    "\n",
    "*Notes:* \n",
    "\n",
    "* The dataset was downloaded from [Kaggle](https://www.kaggle.com/kazanova/sentiment140). We made a slight change on the original data so that each column has a label.\n",
    "\n",
    "* The dataset is huuuuge (1.6m tweets). When you develop your data analysis codes, you can sample a subset of the data (e.g. 20k records) so that you will save a lot of time when you test your codes."
   ]
  },
  {
   "cell_type": "code",
   "execution_count": 1,
   "metadata": {},
   "outputs": [],
   "source": [
    "import pandas as pd"
   ]
  },
  {
   "cell_type": "code",
   "execution_count": 2,
   "metadata": {},
   "outputs": [
    {
     "data": {
      "text/html": [
       "<div>\n",
       "<style scoped>\n",
       "    .dataframe tbody tr th:only-of-type {\n",
       "        vertical-align: middle;\n",
       "    }\n",
       "\n",
       "    .dataframe tbody tr th {\n",
       "        vertical-align: top;\n",
       "    }\n",
       "\n",
       "    .dataframe thead th {\n",
       "        text-align: right;\n",
       "    }\n",
       "</style>\n",
       "<table border=\"1\" class=\"dataframe\">\n",
       "  <thead>\n",
       "    <tr style=\"text-align: right;\">\n",
       "      <th></th>\n",
       "      <th>0</th>\n",
       "      <th>1</th>\n",
       "      <th>2</th>\n",
       "      <th>3</th>\n",
       "      <th>4</th>\n",
       "      <th>5</th>\n",
       "    </tr>\n",
       "  </thead>\n",
       "  <tbody>\n",
       "    <tr>\n",
       "      <td>1192129</td>\n",
       "      <td>4</td>\n",
       "      <td>1984020224</td>\n",
       "      <td>Sun May 31 14:17:05 PDT 2009</td>\n",
       "      <td>NO_QUERY</td>\n",
       "      <td>rachmurrayX</td>\n",
       "      <td>@meghornby  love is on its way</td>\n",
       "    </tr>\n",
       "    <tr>\n",
       "      <td>860445</td>\n",
       "      <td>4</td>\n",
       "      <td>1676371237</td>\n",
       "      <td>Fri May 01 21:51:05 PDT 2009</td>\n",
       "      <td>NO_QUERY</td>\n",
       "      <td>suga13</td>\n",
       "      <td>[[ feelin good, feelin great! ]] Just got home...</td>\n",
       "    </tr>\n",
       "    <tr>\n",
       "      <td>666659</td>\n",
       "      <td>0</td>\n",
       "      <td>2245362116</td>\n",
       "      <td>Fri Jun 19 16:01:31 PDT 2009</td>\n",
       "      <td>NO_QUERY</td>\n",
       "      <td>ohshuggs</td>\n",
       "      <td>Fuckk my immune system is whacked. I think i'm...</td>\n",
       "    </tr>\n",
       "    <tr>\n",
       "      <td>167187</td>\n",
       "      <td>0</td>\n",
       "      <td>1961565375</td>\n",
       "      <td>Fri May 29 09:41:58 PDT 2009</td>\n",
       "      <td>NO_QUERY</td>\n",
       "      <td>librado_</td>\n",
       "      <td>i lost friends, when i didnt do anything</td>\n",
       "    </tr>\n",
       "    <tr>\n",
       "      <td>630676</td>\n",
       "      <td>0</td>\n",
       "      <td>2232068360</td>\n",
       "      <td>Thu Jun 18 19:24:29 PDT 2009</td>\n",
       "      <td>NO_QUERY</td>\n",
       "      <td>conchordsnet</td>\n",
       "      <td>@ellogoodchum yeah, I remember! poor guy...</td>\n",
       "    </tr>\n",
       "  </tbody>\n",
       "</table>\n",
       "</div>"
      ],
      "text/plain": [
       "         0           1                             2         3             4  \\\n",
       "1192129  4  1984020224  Sun May 31 14:17:05 PDT 2009  NO_QUERY   rachmurrayX   \n",
       "860445   4  1676371237  Fri May 01 21:51:05 PDT 2009  NO_QUERY        suga13   \n",
       "666659   0  2245362116  Fri Jun 19 16:01:31 PDT 2009  NO_QUERY      ohshuggs   \n",
       "167187   0  1961565375  Fri May 29 09:41:58 PDT 2009  NO_QUERY      librado_   \n",
       "630676   0  2232068360  Thu Jun 18 19:24:29 PDT 2009  NO_QUERY  conchordsnet   \n",
       "\n",
       "                                                         5  \n",
       "1192129                    @meghornby  love is on its way   \n",
       "860445   [[ feelin good, feelin great! ]] Just got home...  \n",
       "666659   Fuckk my immune system is whacked. I think i'm...  \n",
       "167187           i lost friends, when i didnt do anything   \n",
       "630676        @ellogoodchum yeah, I remember! poor guy...   "
      ]
     },
     "execution_count": 2,
     "metadata": {},
     "output_type": "execute_result"
    }
   ],
   "source": [
    "data = pd.read_csv('training_1600000_processed_noemoticon.csv', encoding = \"ISO-8859-1\", header = None)\n",
    "sample = data.sample(n=20000)\n",
    "sample.head()"
   ]
  },
  {
   "cell_type": "code",
   "execution_count": 3,
   "metadata": {},
   "outputs": [
    {
     "data": {
      "text/html": [
       "<div>\n",
       "<style scoped>\n",
       "    .dataframe tbody tr th:only-of-type {\n",
       "        vertical-align: middle;\n",
       "    }\n",
       "\n",
       "    .dataframe tbody tr th {\n",
       "        vertical-align: top;\n",
       "    }\n",
       "\n",
       "    .dataframe thead th {\n",
       "        text-align: right;\n",
       "    }\n",
       "</style>\n",
       "<table border=\"1\" class=\"dataframe\">\n",
       "  <thead>\n",
       "    <tr style=\"text-align: right;\">\n",
       "      <th></th>\n",
       "      <th>index</th>\n",
       "      <th>target</th>\n",
       "      <th>ids</th>\n",
       "      <th>date</th>\n",
       "      <th>flag</th>\n",
       "      <th>user</th>\n",
       "      <th>text</th>\n",
       "    </tr>\n",
       "  </thead>\n",
       "  <tbody>\n",
       "    <tr>\n",
       "      <td>0</td>\n",
       "      <td>1192129</td>\n",
       "      <td>4</td>\n",
       "      <td>1984020224</td>\n",
       "      <td>Sun May 31 14:17:05 PDT 2009</td>\n",
       "      <td>NO_QUERY</td>\n",
       "      <td>rachmurrayX</td>\n",
       "      <td>@meghornby  love is on its way</td>\n",
       "    </tr>\n",
       "    <tr>\n",
       "      <td>1</td>\n",
       "      <td>860445</td>\n",
       "      <td>4</td>\n",
       "      <td>1676371237</td>\n",
       "      <td>Fri May 01 21:51:05 PDT 2009</td>\n",
       "      <td>NO_QUERY</td>\n",
       "      <td>suga13</td>\n",
       "      <td>[[ feelin good, feelin great! ]] Just got home...</td>\n",
       "    </tr>\n",
       "    <tr>\n",
       "      <td>2</td>\n",
       "      <td>666659</td>\n",
       "      <td>0</td>\n",
       "      <td>2245362116</td>\n",
       "      <td>Fri Jun 19 16:01:31 PDT 2009</td>\n",
       "      <td>NO_QUERY</td>\n",
       "      <td>ohshuggs</td>\n",
       "      <td>Fuckk my immune system is whacked. I think i'm...</td>\n",
       "    </tr>\n",
       "    <tr>\n",
       "      <td>3</td>\n",
       "      <td>167187</td>\n",
       "      <td>0</td>\n",
       "      <td>1961565375</td>\n",
       "      <td>Fri May 29 09:41:58 PDT 2009</td>\n",
       "      <td>NO_QUERY</td>\n",
       "      <td>librado_</td>\n",
       "      <td>i lost friends, when i didnt do anything</td>\n",
       "    </tr>\n",
       "    <tr>\n",
       "      <td>4</td>\n",
       "      <td>630676</td>\n",
       "      <td>0</td>\n",
       "      <td>2232068360</td>\n",
       "      <td>Thu Jun 18 19:24:29 PDT 2009</td>\n",
       "      <td>NO_QUERY</td>\n",
       "      <td>conchordsnet</td>\n",
       "      <td>@ellogoodchum yeah, I remember! poor guy...</td>\n",
       "    </tr>\n",
       "  </tbody>\n",
       "</table>\n",
       "</div>"
      ],
      "text/plain": [
       "     index  target         ids                          date      flag  \\\n",
       "0  1192129       4  1984020224  Sun May 31 14:17:05 PDT 2009  NO_QUERY   \n",
       "1   860445       4  1676371237  Fri May 01 21:51:05 PDT 2009  NO_QUERY   \n",
       "2   666659       0  2245362116  Fri Jun 19 16:01:31 PDT 2009  NO_QUERY   \n",
       "3   167187       0  1961565375  Fri May 29 09:41:58 PDT 2009  NO_QUERY   \n",
       "4   630676       0  2232068360  Thu Jun 18 19:24:29 PDT 2009  NO_QUERY   \n",
       "\n",
       "           user                                               text  \n",
       "0   rachmurrayX                    @meghornby  love is on its way   \n",
       "1        suga13  [[ feelin good, feelin great! ]] Just got home...  \n",
       "2      ohshuggs  Fuckk my immune system is whacked. I think i'm...  \n",
       "3      librado_          i lost friends, when i didnt do anything   \n",
       "4  conchordsnet       @ellogoodchum yeah, I remember! poor guy...   "
      ]
     },
     "execution_count": 3,
     "metadata": {},
     "output_type": "execute_result"
    }
   ],
   "source": [
    "sample = sample.rename(columns = {0: 'target', 1:'ids', 2:'date', 3:'flag', 4:'user', 5:'text'})\n",
    "sample = sample.reset_index()\n",
    "sample.head()"
   ]
  },
  {
   "cell_type": "markdown",
   "metadata": {},
   "source": [
    "### Prepare Textual Data for Sentiment Analysis\n",
    "\n",
    "Now, apply the functions you have written in Challenge 1 to your whole data set. These functions include:\n",
    "\n",
    "* `clean_up()`\n",
    "\n",
    "* `tokenize()`\n",
    "\n",
    "* `stem_and_lemmatize()`\n",
    "\n",
    "* `remove_stopwords()`\n",
    "\n",
    "Create a new column called `text_processed` in the dataframe to contain the processed data. At the end, your `text_processed` column should contain lists of word tokens that are cleaned up. Your data should look like below:\n",
    "\n",
    "![Processed Data](data-cleaning-results.png)"
   ]
  },
  {
   "cell_type": "code",
   "execution_count": 4,
   "metadata": {},
   "outputs": [],
   "source": [
    "import re\n",
    "import string\n",
    "\n",
    "def clean_up(s):\n",
    "    \"\"\"\n",
    "    Cleans up numbers, URLs, and special characters from a string.\n",
    "\n",
    "    Args:\n",
    "        s: The string to be cleaned up.\n",
    "\n",
    "    Returns:\n",
    "        A string that has been cleaned up.\n",
    "    \"\"\"\n",
    "    exclude = set(string.punctuation)\n",
    "\n",
    "    # remove patterns matching url format\n",
    "    url_pattern = r'((http|ftp|https):\\/\\/)?[\\w\\-_]+(\\.[\\w\\-_]+)+([\\w\\-\\.,@?^=%&amp;:/~\\+#]*[\\w\\-\\@?^=%&amp;/~\\+#])?'\n",
    "    s = re.sub(url_pattern, ' ', s)\n",
    "    # remove numbers\n",
    "    number_pattern = (\"\\d+\")\n",
    "    s = re.sub(number_pattern, \"\", s)\n",
    "    # remove special characters\n",
    "    sc_pattern = ('[^A-Za-z]+')\n",
    "    s = re.sub(sc_pattern, ' ', s)\n",
    "    # decapitalize and remove white space\n",
    "    s = s.lower().strip()\n",
    "\n",
    "    return s\n",
    "\n",
    "import nltk\n",
    "from nltk.tokenize import word_tokenize\n",
    "\n",
    "def tokenize(s):\n",
    "    \"\"\"\n",
    "    Tokenize a string.\n",
    "\n",
    "    Args:\n",
    "        s: String to be tokenized.\n",
    "\n",
    "    Returns:\n",
    "        A list of words as the result of tokenization.\n",
    "    \"\"\"\n",
    "    return nltk.word_tokenize(s)\n",
    "\n",
    "from nltk.stem import PorterStemmer \n",
    "from nltk.stem.snowball import SnowballStemmer\n",
    "from nltk.stem import WordNetLemmatizer \n",
    "\n",
    "def stem_and_lemmatize(l):\n",
    "    \"\"\"\n",
    "    Perform stemming and lemmatization on a list of words.\n",
    "\n",
    "    Args:\n",
    "        l: A list of strings.\n",
    "\n",
    "    Returns:\n",
    "        A list of strings after being stemmed and lemmatized.\n",
    "    \"\"\"\n",
    "    ps = PorterStemmer()\n",
    "    lm = WordNetLemmatizer()\n",
    "    s = [ps.stem(w) for w in l]\n",
    "    s = [lm.lemmatize(w) for w in l]\n",
    "    return s\n",
    "\n",
    "from nltk.corpus import stopwords\n",
    "\n",
    "def remove_stopwords(l):\n",
    "    \"\"\"\n",
    "    Remove English stopwords from a list of strings.\n",
    "\n",
    "    Args:\n",
    "        l: A list of strings.\n",
    "\n",
    "    Returns:\n",
    "        A list of strings after stop words are removed.\n",
    "    \"\"\"\n",
    "    stop_words = stopwords.words('english')\n",
    "    \n",
    "    l = [w for w in l if w not in stop_words]\n",
    "    return l\n",
    "\n",
    "sample['text_processed'] = sample['text'].apply(clean_up).apply(tokenize).apply(stem_and_lemmatize).apply(remove_stopwords)"
   ]
  },
  {
   "cell_type": "code",
   "execution_count": 5,
   "metadata": {},
   "outputs": [
    {
     "data": {
      "text/html": [
       "<div>\n",
       "<style scoped>\n",
       "    .dataframe tbody tr th:only-of-type {\n",
       "        vertical-align: middle;\n",
       "    }\n",
       "\n",
       "    .dataframe tbody tr th {\n",
       "        vertical-align: top;\n",
       "    }\n",
       "\n",
       "    .dataframe thead th {\n",
       "        text-align: right;\n",
       "    }\n",
       "</style>\n",
       "<table border=\"1\" class=\"dataframe\">\n",
       "  <thead>\n",
       "    <tr style=\"text-align: right;\">\n",
       "      <th></th>\n",
       "      <th>index</th>\n",
       "      <th>target</th>\n",
       "      <th>ids</th>\n",
       "      <th>date</th>\n",
       "      <th>flag</th>\n",
       "      <th>user</th>\n",
       "      <th>text</th>\n",
       "      <th>text_processed</th>\n",
       "    </tr>\n",
       "  </thead>\n",
       "  <tbody>\n",
       "    <tr>\n",
       "      <td>0</td>\n",
       "      <td>1192129</td>\n",
       "      <td>4</td>\n",
       "      <td>1984020224</td>\n",
       "      <td>Sun May 31 14:17:05 PDT 2009</td>\n",
       "      <td>NO_QUERY</td>\n",
       "      <td>rachmurrayX</td>\n",
       "      <td>@meghornby  love is on its way</td>\n",
       "      <td>[meghornby, love, way]</td>\n",
       "    </tr>\n",
       "    <tr>\n",
       "      <td>1</td>\n",
       "      <td>860445</td>\n",
       "      <td>4</td>\n",
       "      <td>1676371237</td>\n",
       "      <td>Fri May 01 21:51:05 PDT 2009</td>\n",
       "      <td>NO_QUERY</td>\n",
       "      <td>suga13</td>\n",
       "      <td>[[ feelin good, feelin great! ]] Just got home...</td>\n",
       "      <td>[feelin, good, feelin, great, got, home, good,...</td>\n",
       "    </tr>\n",
       "    <tr>\n",
       "      <td>2</td>\n",
       "      <td>666659</td>\n",
       "      <td>0</td>\n",
       "      <td>2245362116</td>\n",
       "      <td>Fri Jun 19 16:01:31 PDT 2009</td>\n",
       "      <td>NO_QUERY</td>\n",
       "      <td>ohshuggs</td>\n",
       "      <td>Fuckk my immune system is whacked. I think i'm...</td>\n",
       "      <td>[fuckk, immune, system, whacked, think, love]</td>\n",
       "    </tr>\n",
       "    <tr>\n",
       "      <td>3</td>\n",
       "      <td>167187</td>\n",
       "      <td>0</td>\n",
       "      <td>1961565375</td>\n",
       "      <td>Fri May 29 09:41:58 PDT 2009</td>\n",
       "      <td>NO_QUERY</td>\n",
       "      <td>librado_</td>\n",
       "      <td>i lost friends, when i didnt do anything</td>\n",
       "      <td>[lost, friend, didnt, anything]</td>\n",
       "    </tr>\n",
       "    <tr>\n",
       "      <td>4</td>\n",
       "      <td>630676</td>\n",
       "      <td>0</td>\n",
       "      <td>2232068360</td>\n",
       "      <td>Thu Jun 18 19:24:29 PDT 2009</td>\n",
       "      <td>NO_QUERY</td>\n",
       "      <td>conchordsnet</td>\n",
       "      <td>@ellogoodchum yeah, I remember! poor guy...</td>\n",
       "      <td>[ellogoodchum, yeah, remember, poor, guy]</td>\n",
       "    </tr>\n",
       "  </tbody>\n",
       "</table>\n",
       "</div>"
      ],
      "text/plain": [
       "     index  target         ids                          date      flag  \\\n",
       "0  1192129       4  1984020224  Sun May 31 14:17:05 PDT 2009  NO_QUERY   \n",
       "1   860445       4  1676371237  Fri May 01 21:51:05 PDT 2009  NO_QUERY   \n",
       "2   666659       0  2245362116  Fri Jun 19 16:01:31 PDT 2009  NO_QUERY   \n",
       "3   167187       0  1961565375  Fri May 29 09:41:58 PDT 2009  NO_QUERY   \n",
       "4   630676       0  2232068360  Thu Jun 18 19:24:29 PDT 2009  NO_QUERY   \n",
       "\n",
       "           user                                               text  \\\n",
       "0   rachmurrayX                    @meghornby  love is on its way    \n",
       "1        suga13  [[ feelin good, feelin great! ]] Just got home...   \n",
       "2      ohshuggs  Fuckk my immune system is whacked. I think i'm...   \n",
       "3      librado_          i lost friends, when i didnt do anything    \n",
       "4  conchordsnet       @ellogoodchum yeah, I remember! poor guy...    \n",
       "\n",
       "                                      text_processed  \n",
       "0                             [meghornby, love, way]  \n",
       "1  [feelin, good, feelin, great, got, home, good,...  \n",
       "2      [fuckk, immune, system, whacked, think, love]  \n",
       "3                    [lost, friend, didnt, anything]  \n",
       "4          [ellogoodchum, yeah, remember, poor, guy]  "
      ]
     },
     "execution_count": 5,
     "metadata": {},
     "output_type": "execute_result"
    }
   ],
   "source": [
    "sample.head()"
   ]
  },
  {
   "cell_type": "markdown",
   "metadata": {},
   "source": [
    "### Creating Bag of Words\n",
    "\n",
    "The purpose of this step is to create a [bag of words](https://en.wikipedia.org/wiki/Bag-of-words_model) from the processed data. The bag of words contains all the unique words in your whole text body (a.k.a. *corpus*) with the number of occurrence of each word. It will allow you to understand which words are the most important features across the whole corpus.\n",
    "\n",
    "Also, you can imagine you will have a massive set of words. The less important words (i.e. those of very low number of occurrence) do not contribute much to the sentiment. Therefore, you only need to use the most important words to build your feature set in the next step. In our case, we will use the top 5,000 words with the highest frequency to build the features.\n",
    "\n",
    "In the cell below, combine all the words in `text_processed` and calculate the frequency distribution of all words. A convenient library to calculate the term frequency distribution is NLTK's `FreqDist` class ([documentation](https://www.nltk.org/api/nltk.html#module-nltk.probability)). Then select the top 5,000 words from the frequency distribution."
   ]
  },
  {
   "cell_type": "code",
   "execution_count": 18,
   "metadata": {},
   "outputs": [],
   "source": [
    "from nltk.probability import FreqDist\n",
    "\n",
    "words = [j for i in list(sample[\"text_processed\"]) for j in i]\n",
    "most_freq = dict(FreqDist(words).most_common(5000))"
   ]
  },
  {
   "cell_type": "markdown",
   "metadata": {},
   "source": [
    "### Building Features\n",
    "\n",
    "Now let's build the features. Using the top 5,000 words, create a 2-dimensional matrix to record whether each of those words is contained in each document (tweet). Then you also have an output column to indicate whether the sentiment in each tweet is positive. For example, assuming your bag of words has 5 items (`['one', 'two', 'three', 'four', 'five']`) out of 4 documents (`['A', 'B', 'C', 'D']`), your feature set is essentially:\n",
    "\n",
    "| Doc | one | two | three | four | five | is_positive |\n",
    "|---|---|---|---|---|---|---|\n",
    "| A | True | False | False | True | False | True |\n",
    "| B | False | False | False | True | True | False |\n",
    "| C | False | True | False | False | False | True |\n",
    "| D | True | False | False | False | True | False|\n",
    "\n",
    "However, because the `nltk.NaiveBayesClassifier.train` class we will use in the next step does not work with Pandas dataframe, the structure of your feature set should be converted to the Python list looking like below:\n",
    "\n",
    "```python\n",
    "[\n",
    "\t({\n",
    "\t\t'one': True,\n",
    "\t\t'two': False,\n",
    "\t\t'three': False,\n",
    "\t\t'four': True,\n",
    "\t\t'five': False\n",
    "\t}, True),\n",
    "\t({\n",
    "\t\t'one': False,\n",
    "\t\t'two': False,\n",
    "\t\t'three': False,\n",
    "\t\t'four': True,\n",
    "\t\t'five': True\n",
    "\t}, False),\n",
    "\t({\n",
    "\t\t'one': False,\n",
    "\t\t'two': True,\n",
    "\t\t'three': False,\n",
    "\t\t'four': False,\n",
    "\t\t'five': False\n",
    "\t}, True),\n",
    "\t({\n",
    "\t\t'one': True,\n",
    "\t\t'two': False,\n",
    "\t\t'three': False,\n",
    "\t\t'four': False,\n",
    "\t\t'five': True\n",
    "\t}, False)\n",
    "]\n",
    "```\n",
    "\n",
    "To help you in this step, watch the [following video](https://www.youtube.com/watch?v=-vVskDsHcVc) to learn how to build the feature set with Python and NLTK. The source code in this video can be found [here](https://pythonprogramming.net/words-as-features-nltk-tutorial/)."
   ]
  },
  {
   "cell_type": "markdown",
   "metadata": {},
   "source": [
    "[![Building Features](building-features.jpg)](https://www.youtube.com/watch?v=-vVskDsHcVc)"
   ]
  },
  {
   "cell_type": "code",
   "execution_count": null,
   "metadata": {},
   "outputs": [],
   "source": [
    "import numpy as np\n",
    "\n",
    "word_features = list(most_freq.keys())\n",
    "documents = list(zip(sample['text_processed'], np.where(sample['target'] == 4, True, False)))\n",
    "\n",
    "def find_features(document):\n",
    "    words = set(document)\n",
    "    features = {}\n",
    "    for w in word_features:\n",
    "        features[w] = (w in words)\n",
    "\n",
    "    return features\n",
    "\n",
    "featuresets = [(find_features(rev), category) for (rev, category) in documents]"
   ]
  },
  {
   "cell_type": "markdown",
   "metadata": {},
   "source": [
    "### Building and Traininng Naive Bayes Model\n",
    "\n",
    "In this step you will split your feature set into a training and a test set. Then you will create a Bayes classifier instance using `nltk.NaiveBayesClassifier.train` ([example](https://www.nltk.org/book/ch06.html)) to train with the training dataset.\n",
    "\n",
    "After training the model, call `classifier.show_most_informative_features()` to inspect the most important features. The output will look like:\n",
    "\n",
    "```\n",
    "Most Informative Features\n",
    "\t    snow = True            False : True   =     34.3 : 1.0\n",
    "\t  easter = True            False : True   =     26.2 : 1.0\n",
    "\t headach = True            False : True   =     20.9 : 1.0\n",
    "\t    argh = True            False : True   =     17.6 : 1.0\n",
    "\tunfortun = True            False : True   =     16.9 : 1.0\n",
    "\t    jona = True             True : False  =     16.2 : 1.0\n",
    "\t     ach = True            False : True   =     14.9 : 1.0\n",
    "\t     sad = True            False : True   =     13.0 : 1.0\n",
    "\t  parent = True            False : True   =     12.9 : 1.0\n",
    "\t  spring = True            False : True   =     12.7 : 1.0\n",
    "```\n",
    "\n",
    "The [following video](https://www.youtube.com/watch?v=rISOsUaTrO4) will help you complete this step. The source code in this video can be found [here](https://pythonprogramming.net/naive-bayes-classifier-nltk-tutorial/)."
   ]
  },
  {
   "cell_type": "markdown",
   "metadata": {},
   "source": [
    "[![Building and Training NB](nb-model-building.jpg)](https://www.youtube.com/watch?v=rISOsUaTrO4)"
   ]
  },
  {
   "cell_type": "code",
   "execution_count": 27,
   "metadata": {},
   "outputs": [
    {
     "data": {
      "text/plain": [
       "20000"
      ]
     },
     "execution_count": 27,
     "metadata": {},
     "output_type": "execute_result"
    }
   ],
   "source": [
    "len(featuresets)"
   ]
  },
  {
   "cell_type": "code",
   "execution_count": 28,
   "metadata": {},
   "outputs": [],
   "source": [
    "from nltk import NaiveBayesClassifier\n",
    "from sklearn.model_selection import train_test_split\n",
    "\n",
    "train, test = featuresets[300:], featuresets[:300]"
   ]
  },
  {
   "cell_type": "code",
   "execution_count": 29,
   "metadata": {},
   "outputs": [],
   "source": [
    "classifier = nltk.NaiveBayesClassifier.train(train)"
   ]
  },
  {
   "cell_type": "markdown",
   "metadata": {},
   "source": [
    "### Testing Naive Bayes Model\n",
    "\n",
    "Now we'll test our classifier with the test dataset. This is done by calling `nltk.classify.accuracy(classifier, test)`.\n",
    "\n",
    "As mentioned in one of the tutorial videos, a Naive Bayes model is considered OK if your accuracy score is over 0.6. If your accuracy score is over 0.7, you've done a great job!"
   ]
  },
  {
   "cell_type": "code",
   "execution_count": 30,
   "metadata": {},
   "outputs": [
    {
     "data": {
      "text/plain": [
       "0.7366666666666667"
      ]
     },
     "execution_count": 30,
     "metadata": {},
     "output_type": "execute_result"
    }
   ],
   "source": [
    "nltk.classify.accuracy(classifier, test)"
   ]
  },
  {
   "cell_type": "code",
   "execution_count": 31,
   "metadata": {},
   "outputs": [
    {
     "name": "stdout",
     "output_type": "stream",
     "text": [
      "Most Informative Features\n",
      "                    died = True            False : True   =     26.3 : 1.0\n",
      "                  throat = True            False : True   =     19.7 : 1.0\n",
      "                   tummy = True            False : True   =     16.3 : 1.0\n",
      "                     sad = True            False : True   =     15.7 : 1.0\n",
      "           unfortunately = True            False : True   =     15.4 : 1.0\n"
     ]
    }
   ],
   "source": [
    "classifier.show_most_informative_features(5)"
   ]
  },
  {
   "cell_type": "markdown",
   "metadata": {},
   "source": [
    "## Bonus Question 1: Improve Model Performance\n",
    "\n",
    "If you are still not exhausted so far and want to dig deeper, try to improve your classifier performance. There are many aspects you can dig into, for example:\n",
    "\n",
    "* Improve stemming and lemmatization. Inspect your bag of words and the most important features. Are there any words you should furuther remove from analysis? You can append these words to further remove to the stop words list.\n",
    "\n",
    "* Remember we only used the top 5,000 features to build model? Try using different numbers of top features. The bottom line is to use as few features as you can without compromising your model performance. The fewer features you select into your model, the faster your model is trained. Then you can use a larger sample size to improve your model accuracy score."
   ]
  },
  {
   "cell_type": "code",
   "execution_count": null,
   "metadata": {},
   "outputs": [],
   "source": [
    "# your code here"
   ]
  },
  {
   "cell_type": "markdown",
   "metadata": {},
   "source": [
    "## Bonus Question 2: Machine Learning Pipeline\n",
    "\n",
    "In a new Jupyter Notebook, combine all your codes into a function (or a class). Your new function will execute the complete machine learning pipeline job by receiving the dataset location and output the classifier. This will allow you to use your function to predict the sentiment of any tweet in real time. "
   ]
  },
  {
   "cell_type": "code",
   "execution_count": null,
   "metadata": {},
   "outputs": [],
   "source": [
    "# your code here"
   ]
  },
  {
   "cell_type": "markdown",
   "metadata": {},
   "source": [
    "## Bonus Question 3: Apache Spark\n",
    "\n",
    "If you have completed the Apache Spark advanced topic lab, what you can do is to migrate your pipeline from local to a Databricks Notebook. Share your notebook with your instructor and classmates to show off your achievements!"
   ]
  },
  {
   "cell_type": "code",
   "execution_count": null,
   "metadata": {},
   "outputs": [],
   "source": [
    "# your code here"
   ]
  }
 ],
 "metadata": {
  "kernelspec": {
   "display_name": "Python 3",
   "language": "python",
   "name": "python3"
  },
  "language_info": {
   "codemirror_mode": {
    "name": "ipython",
    "version": 3
   },
   "file_extension": ".py",
   "mimetype": "text/x-python",
   "name": "python",
   "nbconvert_exporter": "python",
   "pygments_lexer": "ipython3",
   "version": "3.7.4"
  }
 },
 "nbformat": 4,
 "nbformat_minor": 2
}
