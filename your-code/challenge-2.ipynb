{
 "cells": [
  {
   "cell_type": "markdown",
   "metadata": {},
   "source": [
    "# Challenge 2: Sentiment Analysis\n",
    "\n",
    "In this challenge we will learn sentiment analysis and practice performing sentiment analysis on Twitter tweets. \n",
    "\n",
    "## Introduction\n",
    "\n",
    "Sentiment analysis is to *systematically identify, extract, quantify, and study affective states and subjective information* based on texts ([reference](https://en.wikipedia.org/wiki/Sentiment_analysis)). In simple words, it's to understand whether a person is happy or unhappy in producing the piece of text. Why we (or rather, companies) care about sentiment in texts? It's because by understanding the sentiments in texts, we will be able to know if our customers are happy or unhappy about our products and services. If they are unhappy, the subsequent action is to figure out what have caused the unhappiness and make improvements.\n",
    "\n",
    "Basic sentiment analysis only understands the *positive* or *negative* (sometimes *neutral* too) polarities of the sentiment. More advanced sentiment analysis will also consider dimensions such as agreement, subjectivity, confidence, irony, and so on. In this challenge we will conduct the basic positive vs negative sentiment analysis based on real Twitter tweets.\n",
    "\n",
    "NLTK comes with a [sentiment analysis package](https://www.nltk.org/api/nltk.sentiment.html). This package is great for dummies to perform sentiment analysis because it requires only the textual data to make predictions. For example:\n",
    "\n",
    "```python\n",
    ">>> from nltk.sentiment.vader import SentimentIntensityAnalyzer\n",
    ">>> txt = \"Ironhack is a Global Tech School ranked num 2 worldwide.  ",
    " ",
    "Our mission is to help people transform their careers and join a thriving community of tech professionals that love what they do.\"\n",
    ">>> analyzer = SentimentIntensityAnalyzer()\n",
    ">>> analyzer.polarity_scores(txt)\n",
    "{'neg': 0.0, 'neu': 0.741, 'pos': 0.259, 'compound': 0.8442}\n",
    "```\n",
    "\n",
    "In this challenge, however, you will not use NLTK's sentiment analysis package because in your Machine Learning training in the past 2 weeks you have learned how to make predictions more accurate than that. The [tweets data](https://www.kaggle.com/kazanova/sentiment140) we will be using today are already coded for the positive/negative sentiment. You will be able to use the Naïve Bayes classifier you learned in the lesson to predict the sentiment of tweets based on the labels."
   ]
  },
  {
   "cell_type": "markdown",
   "metadata": {},
   "source": [
    "## Conducting Sentiment Analysis\n",
    "\n",
    "### Loading and Exploring Data\n",
    "\n",
    "The dataset we'll be using today is located in the lab directory named `Sentiment140.csv.zip`. You need to unzip it into a `.csv` file. Then in the cell below, load and explore the data.\n",
    "\n",
    "*Notes:* \n",
    "\n",
    "* The dataset was downloaded from [Kaggle](https://www.kaggle.com/kazanova/sentiment140). We made a slight change on the original data so that each column has a label.\n",
    "\n",
    "* The dataset is huuuuge (1.6m tweets). When you develop your data analysis codes, you can sample a subset of the data (e.g. 20k records) so that you will save a lot of time when you test your codes."
   ]
  },
  {
   "cell_type": "code",
   "execution_count": 21,
   "metadata": {},
   "outputs": [],
   "source": [
    "import pandas as pd\n",
    "import numpy as np\n",
    "from nltk.corpus import stopwords\n",
    "import re\n",
    "import nltk\n",
    "from sklearn.feature_extraction.text import CountVectorizer\n",
    "from sklearn.feature_extraction.text import TfidfVectorizer\n",
    "from nltk.probability import ConditionalFreqDist"
   ]
  },
  {
   "cell_type": "code",
   "execution_count": 9,
   "metadata": {},
   "outputs": [],
   "source": [
    "def clean_up(s):\n",
    "    \"\"\"\n",
    "    Cleans up numbers, URLs, and special characters from a string.\n",
    "\n",
    "    Args:\n",
    "        s: The string to be cleaned up.\n",
    "\n",
    "    Returns:\n",
    "        A string that has been cleaned up.\n",
    "    \"\"\"\n",
    "    string = re.sub(r'http\\S+', '', s)\n",
    "    return re.sub('[^A-Za-z]+', ' ', string).lower().strip()\n",
    "\n",
    "def tokenize(s):\n",
    "    \"\"\"\n",
    "    Tokenize a string.\n",
    "\n",
    "    Args:\n",
    "        s: String to be tokenized.\n",
    "\n",
    "    Returns:\n",
    "        A list of words as the result of tokenization.\n",
    "    \"\"\"\n",
    "    return nltk.word_tokenize(s)\n",
    "\n",
    "def stem_and_lemmatize(l):\n",
    "    \n",
    "    \"\"\"\n",
    "    Perform stemming and lemmatization on a list of words.\n",
    "\n",
    "    Args:\n",
    "        l: A list of strings.\n",
    "\n",
    "    Returns:\n",
    "        A list of strings after being stemmed and lemmatized.\n",
    "    \"\"\"\n",
    "    ps = nltk.PorterStemmer()\n",
    "    lemmatizer = nltk.WordNetLemmatizer()\n",
    "    l2 = []\n",
    "    \n",
    "    for w in l:\n",
    "        s = ps.stem(w)\n",
    "        s = lemmatizer.lemmatize(s)\n",
    "        l2 += [s]\n",
    "    \n",
    "    return l2\n",
    "\n",
    "\n",
    "def remove_stopwords(l):\n",
    "    \"\"\"\n",
    "    Remove English stopwords from a list of strings.\n",
    "\n",
    "    Args:\n",
    "        l: A list of strings.\n",
    "\n",
    "    Returns:\n",
    "        A list of strings after stop words are removed.\n",
    "    \"\"\"\n",
    "    stop_words = stopwords.words('english')\n",
    "\n",
    "    return ' '.join([w for w in l if w not in stop_words])"
   ]
  },
  {
   "cell_type": "code",
   "execution_count": 4,
   "metadata": {},
   "outputs": [],
   "source": [
    "tweets = pd.read_csv('C:/Users/Zaca/Documents/Datasets/sentiment140.csv')\n",
    "sample = tweets.sample(20000)"
   ]
  },
  {
   "cell_type": "markdown",
   "metadata": {},
   "source": [
    "### Prepare Textual Data for Sentiment Analysis\n",
    "\n",
    "Now, apply the functions you have written in Challenge 1 to your whole data set. These functions include:\n",
    "\n",
    "* `clean_up()`\n",
    "\n",
    "* `tokenize()`\n",
    "\n",
    "* `stem_and_lemmatize()`\n",
    "\n",
    "* `remove_stopwords()`\n",
    "\n",
    "Create a new column called `text_processed` in the dataframe to contain the processed data. At the end, your `text_processed` column should contain lists of word tokens that are cleaned up. Your data should look like below:\n",
    "\n",
    "![Processed Data](data-cleaning-results.png)"
   ]
  },
  {
   "cell_type": "code",
   "execution_count": 17,
   "metadata": {},
   "outputs": [
    {
     "data": {
      "text/html": [
       "<div>\n",
       "<style scoped>\n",
       "    .dataframe tbody tr th:only-of-type {\n",
       "        vertical-align: middle;\n",
       "    }\n",
       "\n",
       "    .dataframe tbody tr th {\n",
       "        vertical-align: top;\n",
       "    }\n",
       "\n",
       "    .dataframe thead th {\n",
       "        text-align: right;\n",
       "    }\n",
       "</style>\n",
       "<table border=\"1\" class=\"dataframe\">\n",
       "  <thead>\n",
       "    <tr style=\"text-align: right;\">\n",
       "      <th></th>\n",
       "      <th>target</th>\n",
       "      <th>id</th>\n",
       "      <th>date</th>\n",
       "      <th>flag</th>\n",
       "      <th>user</th>\n",
       "      <th>text</th>\n",
       "      <th>text_processed</th>\n",
       "    </tr>\n",
       "  </thead>\n",
       "  <tbody>\n",
       "    <tr>\n",
       "      <td>1172817</td>\n",
       "      <td>4</td>\n",
       "      <td>1980680138</td>\n",
       "      <td>Sun May 31 07:23:51 PDT 2009</td>\n",
       "      <td>NO_QUERY</td>\n",
       "      <td>rhianragabash</td>\n",
       "      <td>watching the Britains Got Talent repeat atm. I...</td>\n",
       "      <td>watch britain got talent repeat atm im pretti ...</td>\n",
       "    </tr>\n",
       "    <tr>\n",
       "      <td>1218580</td>\n",
       "      <td>4</td>\n",
       "      <td>1989851790</td>\n",
       "      <td>Mon Jun 01 03:02:03 PDT 2009</td>\n",
       "      <td>NO_QUERY</td>\n",
       "      <td>tonyburkejnr</td>\n",
       "      <td>@SUAREASY was great hanging with you guys love...</td>\n",
       "      <td>suareasi wa great hang guy love irish enjoy cd</td>\n",
       "    </tr>\n",
       "    <tr>\n",
       "      <td>1212765</td>\n",
       "      <td>4</td>\n",
       "      <td>1989284201</td>\n",
       "      <td>Mon Jun 01 00:59:34 PDT 2009</td>\n",
       "      <td>NO_QUERY</td>\n",
       "      <td>nilsnagele</td>\n",
       "      <td>sending internship inquiries to selected #Micr...</td>\n",
       "      <td>send internship inquiri select microsoft partn...</td>\n",
       "    </tr>\n",
       "    <tr>\n",
       "      <td>394361</td>\n",
       "      <td>0</td>\n",
       "      <td>2055614753</td>\n",
       "      <td>Sat Jun 06 09:38:24 PDT 2009</td>\n",
       "      <td>NO_QUERY</td>\n",
       "      <td>sarafbabyy</td>\n",
       "      <td>@diiiannee why cant youuu</td>\n",
       "      <td>diiianne whi cant youuu</td>\n",
       "    </tr>\n",
       "    <tr>\n",
       "      <td>1586952</td>\n",
       "      <td>4</td>\n",
       "      <td>2190872415</td>\n",
       "      <td>Tue Jun 16 03:57:31 PDT 2009</td>\n",
       "      <td>NO_QUERY</td>\n",
       "      <td>checkyesmegan</td>\n",
       "      <td>@samanthablews ahha i know!! i have prepaid br...</td>\n",
       "      <td>samanthablew ahha know prepaid broadband lapto...</td>\n",
       "    </tr>\n",
       "    <tr>\n",
       "      <td>...</td>\n",
       "      <td>...</td>\n",
       "      <td>...</td>\n",
       "      <td>...</td>\n",
       "      <td>...</td>\n",
       "      <td>...</td>\n",
       "      <td>...</td>\n",
       "      <td>...</td>\n",
       "    </tr>\n",
       "    <tr>\n",
       "      <td>67132</td>\n",
       "      <td>0</td>\n",
       "      <td>1692173436</td>\n",
       "      <td>Sun May 03 19:25:53 PDT 2009</td>\n",
       "      <td>NO_QUERY</td>\n",
       "      <td>andiedahlin</td>\n",
       "      <td>Back to reality</td>\n",
       "      <td>back realiti</td>\n",
       "    </tr>\n",
       "    <tr>\n",
       "      <td>658004</td>\n",
       "      <td>0</td>\n",
       "      <td>2241279864</td>\n",
       "      <td>Fri Jun 19 10:45:30 PDT 2009</td>\n",
       "      <td>NO_QUERY</td>\n",
       "      <td>blayor</td>\n",
       "      <td>@rossmurderscene -_- not happy ill just have t...</td>\n",
       "      <td>rossmurderscen happi ill settl youtub get back</td>\n",
       "    </tr>\n",
       "    <tr>\n",
       "      <td>550119</td>\n",
       "      <td>0</td>\n",
       "      <td>2202830172</td>\n",
       "      <td>Tue Jun 16 22:29:47 PDT 2009</td>\n",
       "      <td>NO_QUERY</td>\n",
       "      <td>ultran00b</td>\n",
       "      <td>Seriously unprepared for this last exam to con...</td>\n",
       "      <td>serious unprepar thi last exam conclud high sc...</td>\n",
       "    </tr>\n",
       "    <tr>\n",
       "      <td>1340127</td>\n",
       "      <td>4</td>\n",
       "      <td>2018977002</td>\n",
       "      <td>Wed Jun 03 10:48:29 PDT 2009</td>\n",
       "      <td>NO_QUERY</td>\n",
       "      <td>shannofish</td>\n",
       "      <td>Wednesday...hump day    haha!!  That always ma...</td>\n",
       "      <td>wednesday hump day haha alway make laugh</td>\n",
       "    </tr>\n",
       "    <tr>\n",
       "      <td>446715</td>\n",
       "      <td>0</td>\n",
       "      <td>2068495039</td>\n",
       "      <td>Sun Jun 07 14:10:42 PDT 2009</td>\n",
       "      <td>NO_QUERY</td>\n",
       "      <td>scarymommy</td>\n",
       "      <td>@ShelleBlok Thanks, babe. &amp;quot;Unfit, clearly...</td>\n",
       "      <td>shelleblok thank babe quot unfit clearli love ...</td>\n",
       "    </tr>\n",
       "  </tbody>\n",
       "</table>\n",
       "<p>20000 rows × 7 columns</p>\n",
       "</div>"
      ],
      "text/plain": [
       "         target          id                          date      flag  \\\n",
       "1172817       4  1980680138  Sun May 31 07:23:51 PDT 2009  NO_QUERY   \n",
       "1218580       4  1989851790  Mon Jun 01 03:02:03 PDT 2009  NO_QUERY   \n",
       "1212765       4  1989284201  Mon Jun 01 00:59:34 PDT 2009  NO_QUERY   \n",
       "394361        0  2055614753  Sat Jun 06 09:38:24 PDT 2009  NO_QUERY   \n",
       "1586952       4  2190872415  Tue Jun 16 03:57:31 PDT 2009  NO_QUERY   \n",
       "...         ...         ...                           ...       ...   \n",
       "67132         0  1692173436  Sun May 03 19:25:53 PDT 2009  NO_QUERY   \n",
       "658004        0  2241279864  Fri Jun 19 10:45:30 PDT 2009  NO_QUERY   \n",
       "550119        0  2202830172  Tue Jun 16 22:29:47 PDT 2009  NO_QUERY   \n",
       "1340127       4  2018977002  Wed Jun 03 10:48:29 PDT 2009  NO_QUERY   \n",
       "446715        0  2068495039  Sun Jun 07 14:10:42 PDT 2009  NO_QUERY   \n",
       "\n",
       "                  user                                               text  \\\n",
       "1172817  rhianragabash  watching the Britains Got Talent repeat atm. I...   \n",
       "1218580   tonyburkejnr  @SUAREASY was great hanging with you guys love...   \n",
       "1212765     nilsnagele  sending internship inquiries to selected #Micr...   \n",
       "394361      sarafbabyy                         @diiiannee why cant youuu    \n",
       "1586952  checkyesmegan  @samanthablews ahha i know!! i have prepaid br...   \n",
       "...                ...                                                ...   \n",
       "67132      andiedahlin                                   Back to reality    \n",
       "658004          blayor  @rossmurderscene -_- not happy ill just have t...   \n",
       "550119       ultran00b  Seriously unprepared for this last exam to con...   \n",
       "1340127     shannofish  Wednesday...hump day    haha!!  That always ma...   \n",
       "446715      scarymommy  @ShelleBlok Thanks, babe. &quot;Unfit, clearly...   \n",
       "\n",
       "                                            text_processed  \n",
       "1172817  watch britain got talent repeat atm im pretti ...  \n",
       "1218580     suareasi wa great hang guy love irish enjoy cd  \n",
       "1212765  send internship inquiri select microsoft partn...  \n",
       "394361                             diiianne whi cant youuu  \n",
       "1586952  samanthablew ahha know prepaid broadband lapto...  \n",
       "...                                                    ...  \n",
       "67132                                         back realiti  \n",
       "658004      rossmurderscen happi ill settl youtub get back  \n",
       "550119   serious unprepar thi last exam conclud high sc...  \n",
       "1340127           wednesday hump day haha alway make laugh  \n",
       "446715   shelleblok thank babe quot unfit clearli love ...  \n",
       "\n",
       "[20000 rows x 7 columns]"
      ]
     },
     "execution_count": 17,
     "metadata": {},
     "output_type": "execute_result"
    }
   ],
   "source": [
    "sample['text_processed'] = sample['text'].apply(clean_up).apply(tokenize).apply(stem_and_lemmatize).apply(remove_stopwords)\n",
    "sample"
   ]
  },
  {
   "cell_type": "markdown",
   "metadata": {},
   "source": [
    "### Creating Bag of Words\n",
    "\n",
    "The purpose of this step is to create a [bag of words](https://en.wikipedia.org/wiki/Bag-of-words_model) from the processed data. The bag of words contains all the unique words in your whole text body (a.k.a. *corpus*) with the number of occurrence of each word. It will allow you to understand which words are the most important features across the whole corpus.\n",
    "\n",
    "Also, you can imagine you will have a massive set of words. The less important words (i.e. those of very low number of occurrence) do not contribute much to the sentiment. Therefore, you only need to use the most important words to build your feature set in the next step. In our case, we will use the top 5,000 words with the highest frequency to build the features.\n",
    "\n",
    "In the cell below, combine all the words in `text_processed` and calculate the frequency distribution of all words. A convenient library to calculate the term frequency distribution is NLTK's `FreqDist` class ([documentation](https://www.nltk.org/api/nltk.html#module-nltk.probability)). Then select the top 5,000 words from the frequency distribution."
   ]
  },
  {
   "cell_type": "code",
   "execution_count": 23,
   "metadata": {},
   "outputs": [
    {
     "data": {
      "text/plain": [
       "<20000x1306 sparse matrix of type '<class 'numpy.int32'>'\n",
       "\twith 107282 stored elements in Compressed Sparse Row format>"
      ]
     },
     "execution_count": 23,
     "metadata": {},
     "output_type": "execute_result"
    }
   ],
   "source": [
    "\n",
    "\n",
    "bow_vect = CountVectorizer(min_df= 15, analyzer= 'word', dtype = np.int32)\n",
    "bow = bow_vect.fit_transform(sample['text_processed'].values)\n",
    "\n",
    "bow"
   ]
  },
  {
   "cell_type": "markdown",
   "metadata": {},
   "source": [
    "### Building Features\n",
    "\n",
    "Now let's build the features. Using the top 5,000 words, create a 2-dimensional matrix to record whether each of those words is contained in each document (tweet). Then you also have an output column to indicate whether the sentiment in each tweet is positive. For example, assuming your bag of words has 5 items (`['one', 'two', 'three', 'four', 'five']`) out of 4 documents (`['A', 'B', 'C', 'D']`), your feature set is essentially:\n",
    "\n",
    "| Doc | one | two | three | four | five | is_positive |\n",
    "|---|---|---|---|---|---|---|\n",
    "| A | True | False | False | True | False | True |\n",
    "| B | False | False | False | True | True | False |\n",
    "| C | False | True | False | False | False | True |\n",
    "| D | True | False | False | False | True | False|\n",
    "\n",
    "However, because the `nltk.NaiveBayesClassifier.train` class we will use in the next step does not work with Pandas dataframe, the structure of your feature set should be converted to the Python list looking like below:\n",
    "\n",
    "```python\n",
    "[\n",
    "\t({\n",
    "\t\t'one': True,\n",
    "\t\t'two': False,\n",
    "\t\t'three': False,\n",
    "\t\t'four': True,\n",
    "\t\t'five': False\n",
    "\t}, True),\n",
    "\t({\n",
    "\t\t'one': False,\n",
    "\t\t'two': False,\n",
    "\t\t'three': False,\n",
    "\t\t'four': True,\n",
    "\t\t'five': True\n",
    "\t}, False),\n",
    "\t({\n",
    "\t\t'one': False,\n",
    "\t\t'two': True,\n",
    "\t\t'three': False,\n",
    "\t\t'four': False,\n",
    "\t\t'five': False\n",
    "\t}, True),\n",
    "\t({\n",
    "\t\t'one': True,\n",
    "\t\t'two': False,\n",
    "\t\t'three': False,\n",
    "\t\t'four': False,\n",
    "\t\t'five': True\n",
    "\t}, False)\n",
    "]\n",
    "```\n",
    "\n",
    "To help you in this step, watch the [following video](https://www.youtube.com/watch?v=-vVskDsHcVc) to learn how to build the feature set with Python and NLTK. The source code in this video can be found [here](https://pythonprogramming.net/words-as-features-nltk-tutorial/)."
   ]
  },
  {
   "cell_type": "markdown",
   "metadata": {},
   "source": [
    "[![Building Features](building-features.jpg)](https://www.youtube.com/watch?v=-vVskDsHcVc)"
   ]
  },
  {
   "cell_type": "code",
   "execution_count": null,
   "metadata": {},
   "outputs": [],
   "source": [
    "# your code here"
   ]
  },
  {
   "cell_type": "markdown",
   "metadata": {},
   "source": [
    "### Building and Traininng Naive Bayes Model\n",
    "\n",
    "In this step you will split your feature set into a training and a test set. Then you will create a Bayes classifier instance using `nltk.NaiveBayesClassifier.train` ([example](https://www.nltk.org/book/ch06.html)) to train with the training dataset.\n",
    "\n",
    "After training the model, call `classifier.show_most_informative_features()` to inspect the most important features. The output will look like:\n",
    "\n",
    "```\n",
    "Most Informative Features\n",
    "\t    snow = True            False : True   =     34.3 : 1.0\n",
    "\t  easter = True            False : True   =     26.2 : 1.0\n",
    "\t headach = True            False : True   =     20.9 : 1.0\n",
    "\t    argh = True            False : True   =     17.6 : 1.0\n",
    "\tunfortun = True            False : True   =     16.9 : 1.0\n",
    "\t    jona = True             True : False  =     16.2 : 1.0\n",
    "\t     ach = True            False : True   =     14.9 : 1.0\n",
    "\t     sad = True            False : True   =     13.0 : 1.0\n",
    "\t  parent = True            False : True   =     12.9 : 1.0\n",
    "\t  spring = True            False : True   =     12.7 : 1.0\n",
    "```\n",
    "\n",
    "The [following video](https://www.youtube.com/watch?v=rISOsUaTrO4) will help you complete this step. The source code in this video can be found [here](https://pythonprogramming.net/naive-bayes-classifier-nltk-tutorial/)."
   ]
  },
  {
   "cell_type": "markdown",
   "metadata": {},
   "source": [
    "[![Building and Training NB](nb-model-building.jpg)](https://www.youtube.com/watch?v=rISOsUaTrO4)"
   ]
  },
  {
   "cell_type": "code",
   "execution_count": 1,
   "metadata": {},
   "outputs": [],
   "source": [
    "# your code here"
   ]
  },
  {
   "cell_type": "markdown",
   "metadata": {},
   "source": [
    "### Testing Naive Bayes Model\n",
    "\n",
    "Now we'll test our classifier with the test dataset. This is done by calling `nltk.classify.accuracy(classifier, test)`.\n",
    "\n",
    "As mentioned in one of the tutorial videos, a Naive Bayes model is considered OK if your accuracy score is over 0.6. If your accuracy score is over 0.7, you've done a great job!"
   ]
  },
  {
   "cell_type": "code",
   "execution_count": null,
   "metadata": {},
   "outputs": [],
   "source": [
    "# your code here"
   ]
  },
  {
   "cell_type": "markdown",
   "metadata": {},
   "source": [
    "## Bonus Question 1: Improve Model Performance\n",
    "\n",
    "If you are still not exhausted so far and want to dig deeper, try to improve your classifier performance. There are many aspects you can dig into, for example:\n",
    "\n",
    "* Improve stemming and lemmatization. Inspect your bag of words and the most important features. Are there any words you should furuther remove from analysis? You can append these words to further remove to the stop words list.\n",
    "\n",
    "* Remember we only used the top 5,000 features to build model? Try using different numbers of top features. The bottom line is to use as few features as you can without compromising your model performance. The fewer features you select into your model, the faster your model is trained. Then you can use a larger sample size to improve your model accuracy score."
   ]
  },
  {
   "cell_type": "code",
   "execution_count": null,
   "metadata": {},
   "outputs": [],
   "source": [
    "# your code here"
   ]
  },
  {
   "cell_type": "markdown",
   "metadata": {},
   "source": [
    "## Bonus Question 2: Machine Learning Pipeline\n",
    "\n",
    "In a new Jupyter Notebook, combine all your codes into a function (or a class). Your new function will execute the complete machine learning pipeline job by receiving the dataset location and output the classifier. This will allow you to use your function to predict the sentiment of any tweet in real time. "
   ]
  },
  {
   "cell_type": "code",
   "execution_count": null,
   "metadata": {},
   "outputs": [],
   "source": [
    "# your code here"
   ]
  },
  {
   "cell_type": "markdown",
   "metadata": {},
   "source": [
    "## Bonus Question 3: Apache Spark\n",
    "\n",
    "If you have completed the Apache Spark advanced topic lab, what you can do is to migrate your pipeline from local to a Databricks Notebook. Share your notebook with your instructor and classmates to show off your achievements!"
   ]
  },
  {
   "cell_type": "code",
   "execution_count": null,
   "metadata": {},
   "outputs": [],
   "source": [
    "# your code here"
   ]
  }
 ],
 "metadata": {
  "kernelspec": {
   "display_name": "Python 3",
   "language": "python",
   "name": "python3"
  },
  "language_info": {
   "codemirror_mode": {
    "name": "ipython",
    "version": 3
   },
   "file_extension": ".py",
   "mimetype": "text/x-python",
   "name": "python",
   "nbconvert_exporter": "python",
   "pygments_lexer": "ipython3",
   "version": "3.7.4"
  }
 },
 "nbformat": 4,
 "nbformat_minor": 2
}
