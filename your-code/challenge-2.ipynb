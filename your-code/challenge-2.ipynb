{
 "cells": [
  {
   "cell_type": "markdown",
   "metadata": {},
   "source": [
    "# Challenge 2: Sentiment Analysis\n",
    "\n",
    "In this challenge we will learn sentiment analysis and practice performing sentiment analysis on Twitter tweets. \n",
    "\n",
    "## Introduction\n",
    "\n",
    "Sentiment analysis is to *systematically identify, extract, quantify, and study affective states and subjective information* based on texts ([reference](https://en.wikipedia.org/wiki/Sentiment_analysis)). In simple words, it's to understand whether a person is happy or unhappy in producing the piece of text. Why we (or rather, companies) care about sentiment in texts? It's because by understanding the sentiments in texts, we will be able to know if our customers are happy or unhappy about our products and services. If they are unhappy, the subsequent action is to figure out what have caused the unhappiness and make improvements.\n",
    "\n",
    "Basic sentiment analysis only understands the *positive* or *negative* (sometimes *neutral* too) polarities of the sentiment. More advanced sentiment analysis will also consider dimensions such as agreement, subjectivity, confidence, irony, and so on. In this challenge we will conduct the basic positive vs negative sentiment analysis based on real Twitter tweets.\n",
    "\n",
    "NLTK comes with a [sentiment analysis package](https://www.nltk.org/api/nltk.sentiment.html). This package is great for dummies to perform sentiment analysis because it requires only the textual data to make predictions. For example:\n",
    "\n",
    "```python\n",
    ">>> from nltk.sentiment.vader import SentimentIntensityAnalyzer\n",
    ">>> txt = \"Ironhack is a Global Tech School ranked num 2 worldwide.  ",
    " ",
    "Our mission is to help people transform their careers and join a thriving community of tech professionals that love what they do.\"\n",
    ">>> analyzer = SentimentIntensityAnalyzer()\n",
    ">>> analyzer.polarity_scores(txt)\n",
    "{'neg': 0.0, 'neu': 0.741, 'pos': 0.259, 'compound': 0.8442}\n",
    "```\n",
    "\n",
    "In this challenge, however, you will not use NLTK's sentiment analysis package because in your Machine Learning training in the past 2 weeks you have learned how to make predictions more accurate than that. The [tweets data](https://www.kaggle.com/kazanova/sentiment140) we will be using today are already coded for the positive/negative sentiment. You will be able to use the Naïve Bayes classifier you learned in the lesson to predict the sentiment of tweets based on the labels."
   ]
  },
  {
   "cell_type": "markdown",
   "metadata": {},
   "source": [
    "## Conducting Sentiment Analysis\n",
    "\n",
    "### Loading and Exploring Data\n",
    "\n",
    "The dataset we'll be using today is located on Kaggle (https://www.kaggle.com/kazanova/sentiment140). Once you have downloaded and imported the dataset, it you will need to define the columns names: df.columns = ['target','id','date','flag','user','text']\n",
    "\n",
    "*Notes:* \n",
    "\n",
    "* The dataset is huuuuge (1.6m tweets). When you develop your data analysis codes, you can sample a subset of the data (e.g. 20k records) so that you will save a lot of time when you test your codes."
   ]
  },
  {
   "cell_type": "code",
   "execution_count": 1,
   "metadata": {},
   "outputs": [
    {
     "data": {
      "text/html": [
       "<div>\n",
       "<style scoped>\n",
       "    .dataframe tbody tr th:only-of-type {\n",
       "        vertical-align: middle;\n",
       "    }\n",
       "\n",
       "    .dataframe tbody tr th {\n",
       "        vertical-align: top;\n",
       "    }\n",
       "\n",
       "    .dataframe thead th {\n",
       "        text-align: right;\n",
       "    }\n",
       "</style>\n",
       "<table border=\"1\" class=\"dataframe\">\n",
       "  <thead>\n",
       "    <tr style=\"text-align: right;\">\n",
       "      <th></th>\n",
       "      <th>target</th>\n",
       "      <th>id</th>\n",
       "      <th>date</th>\n",
       "      <th>flag</th>\n",
       "      <th>user</th>\n",
       "      <th>text</th>\n",
       "    </tr>\n",
       "  </thead>\n",
       "  <tbody>\n",
       "    <tr>\n",
       "      <th>925833</th>\n",
       "      <td>4</td>\n",
       "      <td>1755445246</td>\n",
       "      <td>Sun May 10 09:09:28 PDT 2009</td>\n",
       "      <td>NO_QUERY</td>\n",
       "      <td>SeanKing93</td>\n",
       "      <td>@Chris_Hayward yeye, shrews v wolves soon to be</td>\n",
       "    </tr>\n",
       "    <tr>\n",
       "      <th>110735</th>\n",
       "      <td>0</td>\n",
       "      <td>1824929960</td>\n",
       "      <td>Sun May 17 03:34:29 PDT 2009</td>\n",
       "      <td>NO_QUERY</td>\n",
       "      <td>AMHalasa</td>\n",
       "      <td>its 630 on a sunday morning. i'm up. and punt.</td>\n",
       "    </tr>\n",
       "    <tr>\n",
       "      <th>1569340</th>\n",
       "      <td>4</td>\n",
       "      <td>2188378564</td>\n",
       "      <td>Mon Jun 15 21:47:22 PDT 2009</td>\n",
       "      <td>NO_QUERY</td>\n",
       "      <td>neospace</td>\n",
       "      <td>@alisausa Good Night à¸à¸£à¸±à¸à¸à¸¡</td>\n",
       "    </tr>\n",
       "    <tr>\n",
       "      <th>200910</th>\n",
       "      <td>0</td>\n",
       "      <td>1971777642</td>\n",
       "      <td>Sat May 30 07:52:35 PDT 2009</td>\n",
       "      <td>NO_QUERY</td>\n",
       "      <td>jjjeeesssss</td>\n",
       "      <td>omg im gonna be sick i just sprayed a load of ...</td>\n",
       "    </tr>\n",
       "    <tr>\n",
       "      <th>294071</th>\n",
       "      <td>0</td>\n",
       "      <td>1996494163</td>\n",
       "      <td>Mon Jun 01 15:10:43 PDT 2009</td>\n",
       "      <td>NO_QUERY</td>\n",
       "      <td>nicolastheadept</td>\n",
       "      <td>@ashtonmelancon I know, everyone else has load...</td>\n",
       "    </tr>\n",
       "    <tr>\n",
       "      <th>1117423</th>\n",
       "      <td>4</td>\n",
       "      <td>1973418264</td>\n",
       "      <td>Sat May 30 11:06:32 PDT 2009</td>\n",
       "      <td>NO_QUERY</td>\n",
       "      <td>inararadio</td>\n",
       "      <td>Stream is now online!</td>\n",
       "    </tr>\n",
       "    <tr>\n",
       "      <th>302537</th>\n",
       "      <td>0</td>\n",
       "      <td>1999059322</td>\n",
       "      <td>Mon Jun 01 19:34:21 PDT 2009</td>\n",
       "      <td>NO_QUERY</td>\n",
       "      <td>TraciFacey</td>\n",
       "      <td>@Ashleybrook128  No  I always liked Tippy, we ...</td>\n",
       "    </tr>\n",
       "    <tr>\n",
       "      <th>553893</th>\n",
       "      <td>0</td>\n",
       "      <td>2203726174</td>\n",
       "      <td>Wed Jun 17 00:23:28 PDT 2009</td>\n",
       "      <td>NO_QUERY</td>\n",
       "      <td>xxlollipop16xx</td>\n",
       "      <td>@ILoveNereus31 whoa wait i didn't even see tha...</td>\n",
       "    </tr>\n",
       "    <tr>\n",
       "      <th>203654</th>\n",
       "      <td>0</td>\n",
       "      <td>1972420858</td>\n",
       "      <td>Sat May 30 09:11:30 PDT 2009</td>\n",
       "      <td>NO_QUERY</td>\n",
       "      <td>shar00001</td>\n",
       "      <td>Can't give blood for a year since I went to Th...</td>\n",
       "    </tr>\n",
       "    <tr>\n",
       "      <th>716596</th>\n",
       "      <td>0</td>\n",
       "      <td>2259745850</td>\n",
       "      <td>Sat Jun 20 18:05:36 PDT 2009</td>\n",
       "      <td>NO_QUERY</td>\n",
       "      <td>xILoveJonasx33</td>\n",
       "      <td>I cannot add my ringtones in my cell phone ......</td>\n",
       "    </tr>\n",
       "  </tbody>\n",
       "</table>\n",
       "</div>"
      ],
      "text/plain": [
       "         target          id                          date      flag  \\\n",
       "925833        4  1755445246  Sun May 10 09:09:28 PDT 2009  NO_QUERY   \n",
       "110735        0  1824929960  Sun May 17 03:34:29 PDT 2009  NO_QUERY   \n",
       "1569340       4  2188378564  Mon Jun 15 21:47:22 PDT 2009  NO_QUERY   \n",
       "200910        0  1971777642  Sat May 30 07:52:35 PDT 2009  NO_QUERY   \n",
       "294071        0  1996494163  Mon Jun 01 15:10:43 PDT 2009  NO_QUERY   \n",
       "1117423       4  1973418264  Sat May 30 11:06:32 PDT 2009  NO_QUERY   \n",
       "302537        0  1999059322  Mon Jun 01 19:34:21 PDT 2009  NO_QUERY   \n",
       "553893        0  2203726174  Wed Jun 17 00:23:28 PDT 2009  NO_QUERY   \n",
       "203654        0  1972420858  Sat May 30 09:11:30 PDT 2009  NO_QUERY   \n",
       "716596        0  2259745850  Sat Jun 20 18:05:36 PDT 2009  NO_QUERY   \n",
       "\n",
       "                    user                                               text  \n",
       "925833        SeanKing93   @Chris_Hayward yeye, shrews v wolves soon to be   \n",
       "110735          AMHalasa    its 630 on a sunday morning. i'm up. and punt.   \n",
       "1569340         neospace           @alisausa Good Night à¸à¸£à¸±à¸à¸à¸¡   \n",
       "200910       jjjeeesssss  omg im gonna be sick i just sprayed a load of ...  \n",
       "294071   nicolastheadept  @ashtonmelancon I know, everyone else has load...  \n",
       "1117423       inararadio                             Stream is now online!   \n",
       "302537        TraciFacey  @Ashleybrook128  No  I always liked Tippy, we ...  \n",
       "553893    xxlollipop16xx  @ILoveNereus31 whoa wait i didn't even see tha...  \n",
       "203654         shar00001  Can't give blood for a year since I went to Th...  \n",
       "716596    xILoveJonasx33  I cannot add my ringtones in my cell phone ......  "
      ]
     },
     "execution_count": 1,
     "metadata": {},
     "output_type": "execute_result"
    }
   ],
   "source": [
    "# your code here\n",
    "import pandas as pd\n",
    "\n",
    "df = pd.read_csv('training.1600000.processed.noemoticon.csv',\n",
    "                 encoding='latin-1', \n",
    "                 header = None, \n",
    "                 names=[\"target\", \"id\", \"date\", \"flag\", 'user','text'])\n",
    "\n",
    "df.sample(10)"
   ]
  },
  {
   "cell_type": "markdown",
   "metadata": {},
   "source": [
    "### Prepare Textual Data for Sentiment Analysis\n",
    "\n",
    "Now, apply the functions you have written in Challenge 1 to your whole data set. These functions include:\n",
    "\n",
    "* `clean_up()`\n",
    "\n",
    "* `tokenize()`\n",
    "\n",
    "* `stem_and_lemmatize()`\n",
    "\n",
    "* `remove_stopwords()`\n",
    "\n",
    "Create a new column called `text_processed` in the dataframe to contain the processed data. At the end, your `text_processed` column should contain lists of word tokens that are cleaned up. Your data should look like below:\n",
    "\n",
    "![Processed Data](data-cleaning-results.png)"
   ]
  },
  {
   "cell_type": "code",
   "execution_count": 2,
   "metadata": {},
   "outputs": [],
   "source": [
    "import re\n",
    "import nltk\n",
    "from nltk.stem.porter import *\n",
    "from w3lib.url import url_query_cleaner\n",
    "from url_normalize import url_normalize\n",
    "from nltk.corpus import stopwords\n",
    "from nltk.stem import WordNetLemmatizer\n",
    "from nltk.tokenize import word_tokenize\n",
    "\n",
    "def preprocess(text):   \n",
    "    ## Normalizes a web code\n",
    "    \"\"\"\"\n",
    "    text = url_normalize(text)\n",
    "    text= url_query_cleaner(text,parameterlist = ['utm_source','utm_medium','utm_campaign','utm_term','utm_content'],remove=True)\n",
    "    if text.startswith(\"http://\"):\n",
    "        text = text[7:]\n",
    "    if text.startswith(\"https://\"):\n",
    "        text = text[8:]\n",
    "    if text.startswith(\"www.\"):\n",
    "        text = text[4:]\n",
    "    if text.endswith(\"/\"):\n",
    "        text = text[:-1]\n",
    "    \"\"\"\n",
    "    #strip \n",
    "    text = re.sub(r'<b>.+?</b>', '', text) \n",
    "    text = re.sub(r'<i>.+?</i>', '', text)\n",
    "    text = re.sub(r'<.+?>', '', text) # remove all other html tags\n",
    "    \n",
    "    ## remove punctuations, non-alphanumeric characters and underscores\n",
    "    text = re.sub(r'[^\\w\\s]|\\d|_', ' ', text)\n",
    "    text = str(text).lower().strip()\n",
    "\n",
    "    ##tokenize, stem_and_lemmatize\n",
    "    token = word_tokenize(text)\n",
    "    stemmer = PorterStemmer()\n",
    "    text = stemmer.stem(text)\n",
    "    lemmatizer = WordNetLemmatizer()\n",
    "    text = [lemmatizer.lemmatize(t) for t in token]\n",
    "    text = \" \".join(text)\n",
    "\n",
    "    #remove stopwords\n",
    "    stop_words = stopwords.words('english')\n",
    "    text = [t for t in token if t not in stop_words]\n",
    "    return text"
   ]
  },
  {
   "cell_type": "code",
   "execution_count": null,
   "metadata": {},
   "outputs": [],
   "source": [
    "df['text_processed'] = [preprocess(x) for x in df[\"text\"]]\n",
    "df.head()"
   ]
  },
  {
   "cell_type": "markdown",
   "metadata": {},
   "source": [
    "### Creating Bag of Words\n",
    "\n",
    "The purpose of this step is to create a [bag of words](https://en.wikipedia.org/wiki/Bag-of-words_model) from the processed data. The bag of words contains all the unique words in your whole text body (a.k.a. *corpus*) with the number of occurrence of each word. It will allow you to understand which words are the most important features across the whole corpus.\n",
    "\n",
    "Also, you can imagine you will have a massive set of words. The less important words (i.e. those of very low number of occurrence) do not contribute much to the sentiment. Therefore, you only need to use the most important words to build your feature set in the next step. In our case, we will use the top 5,000 words with the highest frequency to build the features.\n",
    "\n",
    "In the cell below, combine all the words in `text_processed` and calculate the frequency distribution of all words. A convenient library to calculate the term frequency distribution is NLTK's `FreqDist` class ([documentation](https://www.nltk.org/api/nltk.html#module-nltk.probability)). Then select the top 5,000 words from the frequency distribution."
   ]
  },
  {
   "cell_type": "code",
   "execution_count": 39,
   "metadata": {},
   "outputs": [
    {
     "ename": "NameError",
     "evalue": "name 'FreqDist' is not defined",
     "output_type": "error",
     "traceback": [
      "\u001b[1;31m---------------------------------------------------------------------------\u001b[0m",
      "\u001b[1;31mNameError\u001b[0m                                 Traceback (most recent call last)",
      "\u001b[1;32m<ipython-input-39-660a3f179036>\u001b[0m in \u001b[0;36m<module>\u001b[1;34m\u001b[0m\n\u001b[0;32m      1\u001b[0m \u001b[1;31m# your code here\u001b[0m\u001b[1;33m\u001b[0m\u001b[1;33m\u001b[0m\u001b[1;33m\u001b[0m\u001b[0m\n\u001b[1;32m----> 2\u001b[1;33m \u001b[0mfdist\u001b[0m \u001b[1;33m=\u001b[0m \u001b[0mFreqDist\u001b[0m\u001b[1;33m(\u001b[0m\u001b[1;33m)\u001b[0m\u001b[1;33m\u001b[0m\u001b[1;33m\u001b[0m\u001b[0m\n\u001b[0m\u001b[0;32m      3\u001b[0m \u001b[1;32mfor\u001b[0m \u001b[0msentence\u001b[0m \u001b[1;32min\u001b[0m \u001b[0mnltk\u001b[0m\u001b[1;33m.\u001b[0m\u001b[0mtokenize\u001b[0m\u001b[1;33m.\u001b[0m\u001b[0msent_tokenize\u001b[0m\u001b[1;33m(\u001b[0m\u001b[0mdf\u001b[0m\u001b[1;33m[\u001b[0m\u001b[1;34m\"text\"\u001b[0m\u001b[1;33m]\u001b[0m\u001b[1;33m)\u001b[0m\u001b[1;33m:\u001b[0m\u001b[1;33m\u001b[0m\u001b[1;33m\u001b[0m\u001b[0m\n\u001b[0;32m      4\u001b[0m     \u001b[1;32mfor\u001b[0m \u001b[0mword\u001b[0m \u001b[1;32min\u001b[0m \u001b[0mnltk\u001b[0m\u001b[1;33m.\u001b[0m\u001b[0mtokenize\u001b[0m\u001b[1;33m.\u001b[0m\u001b[0mword_tokenize\u001b[0m\u001b[1;33m(\u001b[0m\u001b[0msentence\u001b[0m\u001b[1;33m)\u001b[0m\u001b[1;33m:\u001b[0m\u001b[1;33m\u001b[0m\u001b[1;33m\u001b[0m\u001b[0m\n\u001b[0;32m      5\u001b[0m         \u001b[0mfdist\u001b[0m\u001b[1;33m[\u001b[0m\u001b[0mword\u001b[0m\u001b[1;33m]\u001b[0m \u001b[1;33m+=\u001b[0m \u001b[1;36m1\u001b[0m\u001b[1;33m\u001b[0m\u001b[1;33m\u001b[0m\u001b[0m\n",
      "\u001b[1;31mNameError\u001b[0m: name 'FreqDist' is not defined"
     ]
    }
   ],
   "source": [
    "# your code here\n",
    "pos_count = word_tokenize(df[[\"text_processed\"]])\n",
    "fdist = FreqDist(pos_count)\n"
   ]
  },
  {
   "cell_type": "markdown",
   "metadata": {},
   "source": [
    "### Building Features\n",
    "\n",
    "Now let's build the features. Using the top 5,000 words, create a 2-dimensional matrix to record whether each of those words is contained in each document (tweet). Then you also have an output column to indicate whether the sentiment in each tweet is positive. For example, assuming your bag of words has 5 items (`['one', 'two', 'three', 'four', 'five']`) out of 4 documents (`['A', 'B', 'C', 'D']`), your feature set is essentially:\n",
    "\n",
    "| Doc | one | two | three | four | five | is_positive |\n",
    "|---|---|---|---|---|---|---|\n",
    "| A | True | False | False | True | False | True |\n",
    "| B | False | False | False | True | True | False |\n",
    "| C | False | True | False | False | False | True |\n",
    "| D | True | False | False | False | True | False|\n",
    "\n",
    "However, because the `nltk.NaiveBayesClassifier.train` class we will use in the next step does not work with Pandas dataframe, the structure of your feature set should be converted to the Python list looking like below:\n",
    "\n",
    "```python\n",
    "[\n",
    "\t({\n",
    "\t\t'one': True,\n",
    "\t\t'two': False,\n",
    "\t\t'three': False,\n",
    "\t\t'four': True,\n",
    "\t\t'five': False\n",
    "\t}, True),\n",
    "\t({\n",
    "\t\t'one': False,\n",
    "\t\t'two': False,\n",
    "\t\t'three': False,\n",
    "\t\t'four': True,\n",
    "\t\t'five': True\n",
    "\t}, False),\n",
    "\t({\n",
    "\t\t'one': False,\n",
    "\t\t'two': True,\n",
    "\t\t'three': False,\n",
    "\t\t'four': False,\n",
    "\t\t'five': False\n",
    "\t}, True),\n",
    "\t({\n",
    "\t\t'one': True,\n",
    "\t\t'two': False,\n",
    "\t\t'three': False,\n",
    "\t\t'four': False,\n",
    "\t\t'five': True\n",
    "\t}, False)\n",
    "]\n",
    "```\n",
    "\n",
    "To help you in this step, watch the [following video](https://www.youtube.com/watch?v=-vVskDsHcVc) to learn how to build the feature set with Python and NLTK. The source code in this video can be found [here](https://pythonprogramming.net/words-as-features-nltk-tutorial/)."
   ]
  },
  {
   "cell_type": "markdown",
   "metadata": {},
   "source": [
    "[![Building Features](building-features.jpg)](https://www.youtube.com/watch?v=-vVskDsHcVc)"
   ]
  },
  {
   "cell_type": "code",
   "execution_count": null,
   "metadata": {},
   "outputs": [],
   "source": [
    "# your code here"
   ]
  },
  {
   "cell_type": "markdown",
   "metadata": {},
   "source": [
    "### Building and Traininng Naive Bayes Model\n",
    "\n",
    "In this step you will split your feature set into a training and a test set. Then you will create a Bayes classifier instance using `nltk.NaiveBayesClassifier.train` ([example](https://www.nltk.org/book/ch06.html)) to train with the training dataset.\n",
    "\n",
    "After training the model, call `classifier.show_most_informative_features()` to inspect the most important features. The output will look like:\n",
    "\n",
    "```\n",
    "Most Informative Features\n",
    "\t    snow = True            False : True   =     34.3 : 1.0\n",
    "\t  easter = True            False : True   =     26.2 : 1.0\n",
    "\t headach = True            False : True   =     20.9 : 1.0\n",
    "\t    argh = True            False : True   =     17.6 : 1.0\n",
    "\tunfortun = True            False : True   =     16.9 : 1.0\n",
    "\t    jona = True             True : False  =     16.2 : 1.0\n",
    "\t     ach = True            False : True   =     14.9 : 1.0\n",
    "\t     sad = True            False : True   =     13.0 : 1.0\n",
    "\t  parent = True            False : True   =     12.9 : 1.0\n",
    "\t  spring = True            False : True   =     12.7 : 1.0\n",
    "```\n",
    "\n",
    "The [following video](https://www.youtube.com/watch?v=rISOsUaTrO4) will help you complete this step. The source code in this video can be found [here](https://pythonprogramming.net/naive-bayes-classifier-nltk-tutorial/)."
   ]
  },
  {
   "cell_type": "markdown",
   "metadata": {},
   "source": [
    "[![Building and Training NB](nb-model-building.jpg)](https://www.youtube.com/watch?v=rISOsUaTrO4)"
   ]
  },
  {
   "cell_type": "code",
   "execution_count": 1,
   "metadata": {},
   "outputs": [],
   "source": [
    "# your code here"
   ]
  },
  {
   "cell_type": "markdown",
   "metadata": {},
   "source": [
    "### Testing Naive Bayes Model\n",
    "\n",
    "Now we'll test our classifier with the test dataset. This is done by calling `nltk.classify.accuracy(classifier, test)`.\n",
    "\n",
    "As mentioned in one of the tutorial videos, a Naive Bayes model is considered OK if your accuracy score is over 0.6. If your accuracy score is over 0.7, you've done a great job!"
   ]
  },
  {
   "cell_type": "code",
   "execution_count": null,
   "metadata": {},
   "outputs": [],
   "source": [
    "# your code here"
   ]
  },
  {
   "cell_type": "markdown",
   "metadata": {},
   "source": [
    "## Bonus Question 1: Improve Model Performance\n",
    "\n",
    "If you are still not exhausted so far and want to dig deeper, try to improve your classifier performance. There are many aspects you can dig into, for example:\n",
    "\n",
    "* Improve stemming and lemmatization. Inspect your bag of words and the most important features. Are there any words you should furuther remove from analysis? You can append these words to further remove to the stop words list.\n",
    "\n",
    "* Remember we only used the top 5,000 features to build model? Try using different numbers of top features. The bottom line is to use as few features as you can without compromising your model performance. The fewer features you select into your model, the faster your model is trained. Then you can use a larger sample size to improve your model accuracy score."
   ]
  },
  {
   "cell_type": "code",
   "execution_count": null,
   "metadata": {},
   "outputs": [],
   "source": [
    "# your code here"
   ]
  },
  {
   "cell_type": "markdown",
   "metadata": {},
   "source": [
    "## Bonus Question 2: Machine Learning Pipeline\n",
    "\n",
    "In a new Jupyter Notebook, combine all your codes into a function (or a class). Your new function will execute the complete machine learning pipeline job by receiving the dataset location and output the classifier. This will allow you to use your function to predict the sentiment of any tweet in real time. "
   ]
  },
  {
   "cell_type": "code",
   "execution_count": null,
   "metadata": {},
   "outputs": [],
   "source": [
    "# your code here"
   ]
  },
  {
   "cell_type": "markdown",
   "metadata": {},
   "source": [
    "## Bonus Question 3: Apache Spark\n",
    "\n",
    "If you have completed the Apache Spark advanced topic lab, what you can do is to migrate your pipeline from local to a Databricks Notebook. Share your notebook with your instructor and classmates to show off your achievements!"
   ]
  },
  {
   "cell_type": "code",
   "execution_count": null,
   "metadata": {},
   "outputs": [],
   "source": [
    "# your code here"
   ]
  }
 ],
 "metadata": {
  "kernelspec": {
   "display_name": "Python 3",
   "language": "python",
   "name": "python3"
  },
  "language_info": {
   "codemirror_mode": {
    "name": "ipython",
    "version": 3
   },
   "file_extension": ".py",
   "mimetype": "text/x-python",
   "name": "python",
   "nbconvert_exporter": "python",
   "pygments_lexer": "ipython3",
   "version": "3.8.5"
  }
 },
 "nbformat": 4,
 "nbformat_minor": 4
}
