{
 "cells": [
  {
   "cell_type": "markdown",
   "metadata": {},
   "source": [
    "# Challenge 2: Sentiment Analysis\n",
    "\n",
    "In this challenge we will learn sentiment analysis and practice performing sentiment analysis on Twitter tweets. \n",
    "\n",
    "## Introduction\n",
    "\n",
    "Sentiment analysis is to *systematically identify, extract, quantify, and study affective states and subjective information* based on texts ([reference](https://en.wikipedia.org/wiki/Sentiment_analysis)). In simple words, it's to understand whether a person is happy or unhappy in producing the piece of text. Why we (or rather, companies) care about sentiment in texts? It's because by understanding the sentiments in texts, we will be able to know if our customers are happy or unhappy about our products and services. If they are unhappy, the subsequent action is to figure out what have caused the unhappiness and make improvements.\n",
    "\n",
    "Basic sentiment analysis only understands the *positive* or *negative* (sometimes *neutral* too) polarities of the sentiment. More advanced sentiment analysis will also consider dimensions such as agreement, subjectivity, confidence, irony, and so on. In this challenge we will conduct the basic positive vs negative sentiment analysis based on real Twitter tweets.\n",
    "\n",
    "NLTK comes with a [sentiment analysis package](https://www.nltk.org/api/nltk.sentiment.html). This package is great for dummies to perform sentiment analysis because it requires only the textual data to make predictions. For example:\n",
    "\n",
    "```python\n",
    ">>> from nltk.sentiment.vader import SentimentIntensityAnalyzer\n",
    ">>> txt = \"Ironhack is a Global Tech School ranked num 2 worldwide.  \n",
    " \n",
    "Our mission is to help people transform their careers and join a thriving community of tech professionals that love what they do.\"\n",
    ">>> analyzer = SentimentIntensityAnalyzer()\n",
    ">>> analyzer.polarity_scores(txt)\n",
    "{'neg': 0.0, 'neu': 0.741, 'pos': 0.259, 'compound': 0.8442}\n",
    "```\n",
    "\n",
    "In this challenge, however, you will not use NLTK's sentiment analysis package because in your Machine Learning training in the past 2 weeks you have learned how to make predictions more accurate than that. The [tweets data](https://www.kaggle.com/kazanova/sentiment140) we will be using today are already coded for the positive/negative sentiment. You will be able to use the Naïve Bayes classifier you learned in the lesson to predict the sentiment of tweets based on the labels."
   ]
  },
  {
   "cell_type": "markdown",
   "metadata": {},
   "source": [
    "## Conducting Sentiment Analysis\n",
    "\n",
    "### Loading and Exploring Data\n",
    "\n",
    "The dataset we'll be using today is located on Kaggle (https://www.kaggle.com/kazanova/sentiment140). Once you have downloaded and imported the dataset, it you will need to define the columns names: df.columns = ['target','id','date','flag','user','text']\n",
    "\n",
    "*Notes:* \n",
    "\n",
    "* The dataset is huuuuge (1.6m tweets). When you develop your data analysis codes, you can sample a subset of the data (e.g. 20k records) so that you will save a lot of time when you test your codes."
   ]
  },
  {
   "cell_type": "code",
   "execution_count": 1,
   "metadata": {},
   "outputs": [],
   "source": [
    "# your code here\n",
    "import pandas as pd \n",
    "\n",
    "df = pd.read_csv(r'C:/Users/Sebas!/Documents/GitHub/sentiments.csv',encoding='latin-1')\n",
    "df.columns= ['target','id','date','flag','user','text']"
   ]
  },
  {
   "cell_type": "code",
   "execution_count": 2,
   "metadata": {},
   "outputs": [
    {
     "output_type": "execute_result",
     "data": {
      "text/plain": [
       "\"is upset that he can't update his Facebook by texting it... and might cry as a result  School today also. Blah!\""
      ]
     },
     "metadata": {},
     "execution_count": 2
    }
   ],
   "source": [
    "df['text'][0]"
   ]
  },
  {
   "cell_type": "markdown",
   "metadata": {},
   "source": [
    "### Prepare Textual Data for Sentiment Analysis\n",
    "\n",
    "Now, apply the functions you have written in Challenge 1 to your whole data set. These functions include:\n",
    "\n",
    "* `clean_up()`\n",
    "\n",
    "* `tokenize()`\n",
    "\n",
    "* `stem_and_lemmatize()`\n",
    "\n",
    "* `remove_stopwords()`\n",
    "\n",
    "Create a new column called `text_processed` in the dataframe to contain the processed data. At the end, your `text_processed` column should contain lists of word tokens that are cleaned up. Your data should look like below:\n",
    "\n",
    "![Processed Data](data-cleaning-results.png)"
   ]
  },
  {
   "cell_type": "code",
   "execution_count": 3,
   "metadata": {},
   "outputs": [],
   "source": [
    "# your code here\n",
    "from cleaning_functions import clean_up, tokenize, stem_and_lemmatize, remove_stopwords\n",
    "\n",
    "sample = df.sample(n=25000, replace=False, random_state=3)\n",
    "\n",
    "txt_processed = []\n",
    "\n",
    "for text in sample['text']:\n",
    "    cleaned = clean_up(text)\n",
    "    token = tokenize(cleaned)\n",
    "    stemAndlemma = stem_and_lemmatize(token)\n",
    "    filtered = remove_stopwords(stemAndlemma)    \n",
    "    txt_processed.append(filtered)\n",
    "\n",
    "sample['text_processed'] = txt_processed\n",
    "\n"
   ]
  },
  {
   "cell_type": "markdown",
   "metadata": {},
   "source": [
    "### Creating Bag of Words\n",
    "\n",
    "The purpose of this step is to create a [bag of words](https://en.wikipedia.org/wiki/Bag-of-words_model) from the processed data. The bag of words contains all the unique words in your whole text body (a.k.a. *corpus*) with the number of occurrence of each word. It will allow you to understand which words are the most important features across the whole corpus.\n",
    "\n",
    "Also, you can imagine you will have a massive set of words. The less important words (i.e. those of very low number of occurrence) do not contribute much to the sentiment. Therefore, you only need to use the most important words to build your feature set in the next step. In our case, we will use the top 5,000 words with the highest frequency to build the features.\n",
    "\n",
    "In the cell below, combine all the words in `text_processed` and calculate the frequency distribution of all words. A convenient library to calculate the term frequency distribution is NLTK's `FreqDist` class ([documentation](https://www.nltk.org/api/nltk.html#module-nltk.probability)). Then select the top 5,000 words from the frequency distribution."
   ]
  },
  {
   "cell_type": "code",
   "execution_count": 71,
   "metadata": {},
   "outputs": [],
   "source": [
    "# your code here\n",
    "from nltk.probability import ConditionalFreqDist\n",
    "import nltk\n",
    "import random\n",
    "\n",
    "all_words = []\n",
    "for lst in sample['text_processed']:\n",
    "     for word in lst:\n",
    "         all_words.append(word)\n",
    "\n",
    "all_words = nltk.FreqDist(all_words)\n",
    "\n",
    "\n",
    "bag_words = list(all_words.keys())[:5000]\n"
   ]
  },
  {
   "cell_type": "markdown",
   "metadata": {},
   "source": [
    "### Building Features\n",
    "\n",
    "Now let's build the features. Using the top 5,000 words, create a 2-dimensional matrix to record whether each of those words is contained in each document (tweet). Then you also have an output column to indicate whether the sentiment in each tweet is positive. For example, assuming your bag of words has 5 items (`['one', 'two', 'three', 'four', 'five']`) out of 4 documents (`['A', 'B', 'C', 'D']`), your feature set is essentially:\n",
    "\n",
    "| Doc | one | two | three | four | five | is_positive |\n",
    "|---|---|---|---|---|---|---|\n",
    "| A | True | False | False | True | False | True |\n",
    "| B | False | False | False | True | True | False |\n",
    "| C | False | True | False | False | False | True |\n",
    "| D | True | False | False | False | True | False|\n",
    "\n",
    "However, because the `nltk.NaiveBayesClassifier.train` class we will use in the next step does not work with Pandas dataframe, the structure of your feature set should be converted to the Python list looking like below:\n",
    "\n",
    "```python\n",
    "[\n",
    "\t({\n",
    "\t\t'one': True,\n",
    "\t\t'two': False,\n",
    "\t\t'three': False,\n",
    "\t\t'four': True,\n",
    "\t\t'five': False\n",
    "\t}, True),\n",
    "\t({\n",
    "\t\t'one': False,\n",
    "\t\t'two': False,\n",
    "\t\t'three': False,\n",
    "\t\t'four': True,\n",
    "\t\t'five': True\n",
    "\t}, False),\n",
    "\t({\n",
    "\t\t'one': False,\n",
    "\t\t'two': True,\n",
    "\t\t'three': False,\n",
    "\t\t'four': False,\n",
    "\t\t'five': False\n",
    "\t}, True),\n",
    "\t({\n",
    "\t\t'one': True,\n",
    "\t\t'two': False,\n",
    "\t\t'three': False,\n",
    "\t\t'four': False,\n",
    "\t\t'five': True\n",
    "\t}, False)\n",
    "]\n",
    "```\n",
    "\n",
    "To help you in this step, watch the [following video](https://www.youtube.com/watch?v=-vVskDsHcVc) to learn how to build the feature set with Python and NLTK. The source code in this video can be found [here](https://pythonprogramming.net/words-as-features-nltk-tutorial/)."
   ]
  },
  {
   "cell_type": "markdown",
   "metadata": {},
   "source": [
    "[![Building Features](building-features.jpg)](https://www.youtube.com/watch?v=-vVskDsHcVc)"
   ]
  },
  {
   "cell_type": "code",
   "execution_count": 16,
   "metadata": {},
   "outputs": [
    {
     "output_type": "execute_result",
     "data": {
      "text/plain": [
       "         target          id                          date      flag  \\\n",
       "1164659       4  1979779549  Sun May 31 04:28:28 PDT 2009  NO_QUERY   \n",
       "228999        0  1978383347  Sat May 30 23:11:37 PDT 2009  NO_QUERY   \n",
       "1502596       4  2071730438  Sun Jun 07 19:50:23 PDT 2009  NO_QUERY   \n",
       "950813        4  1824089618  Sun May 17 00:00:32 PDT 2009  NO_QUERY   \n",
       "1258437       4  1997910291  Mon Jun 01 17:40:09 PDT 2009  NO_QUERY   \n",
       "...         ...         ...                           ...       ...   \n",
       "1023092       4  1882933753  Fri May 22 07:44:00 PDT 2009  NO_QUERY   \n",
       "1398541       4  2054113019  Sat Jun 06 06:35:23 PDT 2009  NO_QUERY   \n",
       "1458039       4  2063635277  Sun Jun 07 03:28:05 PDT 2009  NO_QUERY   \n",
       "217219        0  1975887217  Sat May 30 16:07:01 PDT 2009  NO_QUERY   \n",
       "1040766       4  1956991914  Thu May 28 23:13:10 PDT 2009  NO_QUERY   \n",
       "\n",
       "                    user                                               text  \\\n",
       "1164659        MarcyChen  Informal study shows that my followers are coo...   \n",
       "228999           emizell        i lost 2 followers...what did i do wrong??    \n",
       "1502596        Jen_Kirby  Excited that I get to go into work late tomorrow    \n",
       "950813        Zombulator  @neolee23 Sorry for my late reply! I saw it on...   \n",
       "1258437         babybee3  bow check a wow wow! i had a good day!! mike t...   \n",
       "...                  ...                                                ...   \n",
       "1023092  YllwCkeNoFrstng  @tomogirl79 haha I love how you're surprised t...   \n",
       "1398541          pointee  immm doing good! meeting taylon / pablo at the...   \n",
       "1458039     anarmnetwork                            @chempaka otw? hati2..    \n",
       "217219           finnern  You know that your kid is not feeling well, wh...   \n",
       "1040766       whosmarisa  I like loading up the car in the middle of the...   \n",
       "\n",
       "                                            text_processed  \n",
       "1164659  [inform, studi, show, my, follow, cooler, foll...  \n",
       "228999                      [lost, follow, did, do, wrong]  \n",
       "1502596          [excit, i, get, go, work, late, tomorrow]  \n",
       "950813   [sorri, my, late, repli, saw, on, youtub, didn...  \n",
       "1258437  [bow, check, wow, wow, had, good, day, mike, h...  \n",
       "...                                                    ...  \n",
       "1023092           [haha, love, you, surpris, you, rub, on]  \n",
       "1398541  [immm, good, meet, taylon, pablo, the, park, t...  \n",
       "1458039                                        [otw, hati]  \n",
       "217219   [know, your, kid, not, feel, well, ,, she, t, ...  \n",
       "1040766  [like, load, the, car, the, middl, the, night,...  \n",
       "\n",
       "[25000 rows x 7 columns]"
      ],
      "text/html": "<div>\n<style scoped>\n    .dataframe tbody tr th:only-of-type {\n        vertical-align: middle;\n    }\n\n    .dataframe tbody tr th {\n        vertical-align: top;\n    }\n\n    .dataframe thead th {\n        text-align: right;\n    }\n</style>\n<table border=\"1\" class=\"dataframe\">\n  <thead>\n    <tr style=\"text-align: right;\">\n      <th></th>\n      <th>target</th>\n      <th>id</th>\n      <th>date</th>\n      <th>flag</th>\n      <th>user</th>\n      <th>text</th>\n      <th>text_processed</th>\n    </tr>\n  </thead>\n  <tbody>\n    <tr>\n      <th>1164659</th>\n      <td>4</td>\n      <td>1979779549</td>\n      <td>Sun May 31 04:28:28 PDT 2009</td>\n      <td>NO_QUERY</td>\n      <td>MarcyChen</td>\n      <td>Informal study shows that my followers are coo...</td>\n      <td>[inform, studi, show, my, follow, cooler, foll...</td>\n    </tr>\n    <tr>\n      <th>228999</th>\n      <td>0</td>\n      <td>1978383347</td>\n      <td>Sat May 30 23:11:37 PDT 2009</td>\n      <td>NO_QUERY</td>\n      <td>emizell</td>\n      <td>i lost 2 followers...what did i do wrong??</td>\n      <td>[lost, follow, did, do, wrong]</td>\n    </tr>\n    <tr>\n      <th>1502596</th>\n      <td>4</td>\n      <td>2071730438</td>\n      <td>Sun Jun 07 19:50:23 PDT 2009</td>\n      <td>NO_QUERY</td>\n      <td>Jen_Kirby</td>\n      <td>Excited that I get to go into work late tomorrow</td>\n      <td>[excit, i, get, go, work, late, tomorrow]</td>\n    </tr>\n    <tr>\n      <th>950813</th>\n      <td>4</td>\n      <td>1824089618</td>\n      <td>Sun May 17 00:00:32 PDT 2009</td>\n      <td>NO_QUERY</td>\n      <td>Zombulator</td>\n      <td>@neolee23 Sorry for my late reply! I saw it on...</td>\n      <td>[sorri, my, late, repli, saw, on, youtub, didn...</td>\n    </tr>\n    <tr>\n      <th>1258437</th>\n      <td>4</td>\n      <td>1997910291</td>\n      <td>Mon Jun 01 17:40:09 PDT 2009</td>\n      <td>NO_QUERY</td>\n      <td>babybee3</td>\n      <td>bow check a wow wow! i had a good day!! mike t...</td>\n      <td>[bow, check, wow, wow, had, good, day, mike, h...</td>\n    </tr>\n    <tr>\n      <th>...</th>\n      <td>...</td>\n      <td>...</td>\n      <td>...</td>\n      <td>...</td>\n      <td>...</td>\n      <td>...</td>\n      <td>...</td>\n    </tr>\n    <tr>\n      <th>1023092</th>\n      <td>4</td>\n      <td>1882933753</td>\n      <td>Fri May 22 07:44:00 PDT 2009</td>\n      <td>NO_QUERY</td>\n      <td>YllwCkeNoFrstng</td>\n      <td>@tomogirl79 haha I love how you're surprised t...</td>\n      <td>[haha, love, you, surpris, you, rub, on]</td>\n    </tr>\n    <tr>\n      <th>1398541</th>\n      <td>4</td>\n      <td>2054113019</td>\n      <td>Sat Jun 06 06:35:23 PDT 2009</td>\n      <td>NO_QUERY</td>\n      <td>pointee</td>\n      <td>immm doing good! meeting taylon / pablo at the...</td>\n      <td>[immm, good, meet, taylon, pablo, the, park, t...</td>\n    </tr>\n    <tr>\n      <th>1458039</th>\n      <td>4</td>\n      <td>2063635277</td>\n      <td>Sun Jun 07 03:28:05 PDT 2009</td>\n      <td>NO_QUERY</td>\n      <td>anarmnetwork</td>\n      <td>@chempaka otw? hati2..</td>\n      <td>[otw, hati]</td>\n    </tr>\n    <tr>\n      <th>217219</th>\n      <td>0</td>\n      <td>1975887217</td>\n      <td>Sat May 30 16:07:01 PDT 2009</td>\n      <td>NO_QUERY</td>\n      <td>finnern</td>\n      <td>You know that your kid is not feeling well, wh...</td>\n      <td>[know, your, kid, not, feel, well, ,, she, t, ...</td>\n    </tr>\n    <tr>\n      <th>1040766</th>\n      <td>4</td>\n      <td>1956991914</td>\n      <td>Thu May 28 23:13:10 PDT 2009</td>\n      <td>NO_QUERY</td>\n      <td>whosmarisa</td>\n      <td>I like loading up the car in the middle of the...</td>\n      <td>[like, load, the, car, the, middl, the, night,...</td>\n    </tr>\n  </tbody>\n</table>\n<p>25000 rows × 7 columns</p>\n</div>"
     },
     "metadata": {},
     "execution_count": 16
    }
   ],
   "source": [
    "sample\n",
    "\n"
   ]
  },
  {
   "cell_type": "code",
   "execution_count": 74,
   "metadata": {
    "tags": []
   },
   "outputs": [],
   "source": [
    "# your code here\n",
    "dic_feat = {}\n",
    "\n",
    "words = set(word for lst in sample['text_processed'] for word in lst)\n",
    "\n",
    "for word in bag_words:\n",
    "    dic_feat[word] = (word in words)\n",
    "\n",
    "features = [({keys:dic_feat[keys]}, dic_feat[keys]) for keys in dic_feat.keys()]"
   ]
  },
  {
   "cell_type": "markdown",
   "metadata": {},
   "source": [
    "### Building and Traininng Naive Bayes Model\n",
    "\n",
    "In this step you will split your feature set into a training and a test set. Then you will create a Bayes classifier instance using `nltk.NaiveBayesClassifier.train` ([example](https://www.nltk.org/book/ch06.html)) to train with the training dataset.\n",
    "\n",
    "After training the model, call `classifier.show_most_informative_features()` to inspect the most important features. The output will look like:\n",
    "\n",
    "```\n",
    "Most Informative Features\n",
    "\t    snow = True            False : True   =     34.3 : 1.0\n",
    "\t  easter = True            False : True   =     26.2 : 1.0\n",
    "\t headach = True            False : True   =     20.9 : 1.0\n",
    "\t    argh = True            False : True   =     17.6 : 1.0\n",
    "\tunfortun = True            False : True   =     16.9 : 1.0\n",
    "\t    jona = True             True : False  =     16.2 : 1.0\n",
    "\t     ach = True            False : True   =     14.9 : 1.0\n",
    "\t     sad = True            False : True   =     13.0 : 1.0\n",
    "\t  parent = True            False : True   =     12.9 : 1.0\n",
    "\t  spring = True            False : True   =     12.7 : 1.0\n",
    "```\n",
    "\n",
    "The [following video](https://www.youtube.com/watch?v=rISOsUaTrO4) will help you complete this step. The source code in this video can be found [here](https://pythonprogramming.net/naive-bayes-classifier-nltk-tutorial/)."
   ]
  },
  {
   "cell_type": "markdown",
   "metadata": {},
   "source": [
    "[![Building and Training NB](nb-model-building.jpg)](https://www.youtube.com/watch?v=rISOsUaTrO4)"
   ]
  },
  {
   "cell_type": "code",
   "execution_count": 82,
   "metadata": {},
   "outputs": [],
   "source": [
    "# your code here\n",
    "training = features[:3000]\n",
    "test = features[3000:]\n",
    "\n",
    "classifier = nltk.NaiveBayesClassifier.train(training)"
   ]
  },
  {
   "cell_type": "code",
   "execution_count": 83,
   "metadata": {},
   "outputs": [
    {
     "output_type": "stream",
     "name": "stdout",
     "text": [
      "Most Informative Features\n"
     ]
    }
   ],
   "source": [
    "classifier.show_most_informative_features()"
   ]
  },
  {
   "cell_type": "markdown",
   "metadata": {},
   "source": [
    "### Testing Naive Bayes Model\n",
    "\n",
    "Now we'll test our classifier with the test dataset. This is done by calling `nltk.classify.accuracy(classifier, test)`.\n",
    "\n",
    "As mentioned in one of the tutorial videos, a Naive Bayes model is considered OK if your accuracy score is over 0.6. If your accuracy score is over 0.7, you've done a great job!"
   ]
  },
  {
   "cell_type": "code",
   "execution_count": 84,
   "metadata": {},
   "outputs": [
    {
     "output_type": "stream",
     "name": "stdout",
     "text": [
      "1.0\nMost Informative Features\n"
     ]
    }
   ],
   "source": [
    "# your code here\n",
    "print(nltk.classify.accuracy(classifier,test))\n",
    "classifier.show_most_informative_features(15)"
   ]
  },
  {
   "cell_type": "markdown",
   "metadata": {},
   "source": [
    "## Bonus Question 1: Improve Model Performance\n",
    "\n",
    "If you are still not exhausted so far and want to dig deeper, try to improve your classifier performance. There are many aspects you can dig into, for example:\n",
    "\n",
    "* Improve stemming and lemmatization. Inspect your bag of words and the most important features. Are there any words you should furuther remove from analysis? You can append these words to further remove to the stop words list.\n",
    "\n",
    "* Remember we only used the top 5,000 features to build model? Try using different numbers of top features. The bottom line is to use as few features as you can without compromising your model performance. The fewer features you select into your model, the faster your model is trained. Then you can use a larger sample size to improve your model accuracy score."
   ]
  },
  {
   "cell_type": "code",
   "execution_count": 10,
   "metadata": {},
   "outputs": [],
   "source": [
    "# your code here"
   ]
  },
  {
   "cell_type": "markdown",
   "metadata": {},
   "source": [
    "## Bonus Question 2: Machine Learning Pipeline\n",
    "\n",
    "In a new Jupyter Notebook, combine all your codes into a function (or a class). Your new function will execute the complete machine learning pipeline job by receiving the dataset location and output the classifier. This will allow you to use your function to predict the sentiment of any tweet in real time. "
   ]
  },
  {
   "cell_type": "code",
   "execution_count": 11,
   "metadata": {},
   "outputs": [],
   "source": [
    "# your code here"
   ]
  },
  {
   "cell_type": "markdown",
   "metadata": {},
   "source": [
    "## Bonus Question 3: Apache Spark\n",
    "\n",
    "If you have completed the Apache Spark advanced topic lab, what you can do is to migrate your pipeline from local to a Databricks Notebook. Share your notebook with your instructor and classmates to show off your achievements!"
   ]
  },
  {
   "cell_type": "code",
   "execution_count": 12,
   "metadata": {},
   "outputs": [],
   "source": [
    "# your code here"
   ]
  }
 ],
 "metadata": {
  "kernelspec": {
   "name": "python385jvsc74a57bd09efc80705562ef6f8028ba9c07828938c290468cbec0ebcf2b44f68ee94d478d",
   "display_name": "Python 3.8.5 64-bit"
  },
  "language_info": {
   "codemirror_mode": {
    "name": "ipython",
    "version": 3
   },
   "file_extension": ".py",
   "mimetype": "text/x-python",
   "name": "python",
   "nbconvert_exporter": "python",
   "pygments_lexer": "ipython3",
   "version": "3.8.5"
  }
 },
 "nbformat": 4,
 "nbformat_minor": 2
}